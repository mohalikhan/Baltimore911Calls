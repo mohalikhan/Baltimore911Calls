{
 "cells": [
  {
   "cell_type": "code",
   "execution_count": 2,
   "metadata": {
    "collapsed": true
   },
   "outputs": [],
   "source": [
    "import pandas as pd\n",
    "import numpy as np"
   ]
  },
  {
   "cell_type": "code",
   "execution_count": 6,
   "metadata": {},
   "outputs": [],
   "source": [
    "data = pd.read_csv('../../Data//911_calls_for_service.csv',index_col='callDateTime',parse_dates=True)"
   ]
  },
  {
   "cell_type": "code",
   "execution_count": 7,
   "metadata": {
    "collapsed": true
   },
   "outputs": [],
   "source": [
    "data.drop('Unnamed: 0',axis=1,inplace=True)"
   ]
  },
  {
   "cell_type": "code",
   "execution_count": 8,
   "metadata": {},
   "outputs": [
    {
     "data": {
      "text/html": [
       "<div>\n",
       "<style>\n",
       "    .dataframe thead tr:only-child th {\n",
       "        text-align: right;\n",
       "    }\n",
       "\n",
       "    .dataframe thead th {\n",
       "        text-align: left;\n",
       "    }\n",
       "\n",
       "    .dataframe tbody tr th {\n",
       "        vertical-align: top;\n",
       "    }\n",
       "</style>\n",
       "<table border=\"1\" class=\"dataframe\">\n",
       "  <thead>\n",
       "    <tr style=\"text-align: right;\">\n",
       "      <th></th>\n",
       "      <th>priority</th>\n",
       "      <th>district</th>\n",
       "      <th>description</th>\n",
       "      <th>callNumber</th>\n",
       "      <th>incidentLocation</th>\n",
       "      <th>location</th>\n",
       "    </tr>\n",
       "    <tr>\n",
       "      <th>callDateTime</th>\n",
       "      <th></th>\n",
       "      <th></th>\n",
       "      <th></th>\n",
       "      <th></th>\n",
       "      <th></th>\n",
       "      <th></th>\n",
       "    </tr>\n",
       "  </thead>\n",
       "  <tbody>\n",
       "    <tr>\n",
       "      <th>2015-07-13 10:41:00</th>\n",
       "      <td>Medium</td>\n",
       "      <td>CD</td>\n",
       "      <td>SEE TEXT</td>\n",
       "      <td>P151941002</td>\n",
       "      <td>0 N CALVERT ST</td>\n",
       "      <td>(39.2899299,-76.6123462)</td>\n",
       "    </tr>\n",
       "    <tr>\n",
       "      <th>2015-07-13 10:47:00</th>\n",
       "      <td>Medium</td>\n",
       "      <td>CD</td>\n",
       "      <td>911/NO  VOICE</td>\n",
       "      <td>P151941003</td>\n",
       "      <td>600 E FAYETTE ST</td>\n",
       "      <td>(39.2906737,-76.6071600)</td>\n",
       "    </tr>\n",
       "    <tr>\n",
       "      <th>2015-07-13 10:42:00</th>\n",
       "      <td>Medium</td>\n",
       "      <td>CD</td>\n",
       "      <td>911/NO  VOICE</td>\n",
       "      <td>P151941004</td>\n",
       "      <td>200 E BALTIMORE ST</td>\n",
       "      <td>(39.2898910,-76.6120720)</td>\n",
       "    </tr>\n",
       "    <tr>\n",
       "      <th>2015-07-13 10:45:00</th>\n",
       "      <td>Low</td>\n",
       "      <td>CD</td>\n",
       "      <td>PRKG COMPLAINT</td>\n",
       "      <td>P151941005</td>\n",
       "      <td>800 PARK AV</td>\n",
       "      <td>(39.2985163,-76.6184754)</td>\n",
       "    </tr>\n",
       "    <tr>\n",
       "      <th>2015-07-13 10:46:00</th>\n",
       "      <td>Medium</td>\n",
       "      <td>SW</td>\n",
       "      <td>AUTO THEFT</td>\n",
       "      <td>P151941006</td>\n",
       "      <td>3500 CLIFTON AV</td>\n",
       "      <td>(39.3112130,-76.6763150)</td>\n",
       "    </tr>\n",
       "  </tbody>\n",
       "</table>\n",
       "</div>"
      ],
      "text/plain": [
       "                    priority district     description  callNumber  \\\n",
       "callDateTime                                                        \n",
       "2015-07-13 10:41:00   Medium       CD        SEE TEXT  P151941002   \n",
       "2015-07-13 10:47:00   Medium       CD   911/NO  VOICE  P151941003   \n",
       "2015-07-13 10:42:00   Medium       CD   911/NO  VOICE  P151941004   \n",
       "2015-07-13 10:45:00      Low       CD  PRKG COMPLAINT  P151941005   \n",
       "2015-07-13 10:46:00   Medium       SW      AUTO THEFT  P151941006   \n",
       "\n",
       "                       incidentLocation                  location  \n",
       "callDateTime                                                       \n",
       "2015-07-13 10:41:00      0 N CALVERT ST  (39.2899299,-76.6123462)  \n",
       "2015-07-13 10:47:00    600 E FAYETTE ST  (39.2906737,-76.6071600)  \n",
       "2015-07-13 10:42:00  200 E BALTIMORE ST  (39.2898910,-76.6120720)  \n",
       "2015-07-13 10:45:00         800 PARK AV  (39.2985163,-76.6184754)  \n",
       "2015-07-13 10:46:00     3500 CLIFTON AV  (39.3112130,-76.6763150)  "
      ]
     },
     "execution_count": 8,
     "metadata": {},
     "output_type": "execute_result"
    }
   ],
   "source": [
    "data.head()"
   ]
  },
  {
   "cell_type": "code",
   "execution_count": 9,
   "metadata": {},
   "outputs": [
    {
     "data": {
      "text/plain": [
       "2799914"
      ]
     },
     "execution_count": 9,
     "metadata": {},
     "output_type": "execute_result"
    }
   ],
   "source": [
    "len(data)"
   ]
  },
  {
   "cell_type": "code",
   "execution_count": 10,
   "metadata": {},
   "outputs": [
    {
     "data": {
      "text/plain": [
       "False    2793259\n",
       "True        6655\n",
       "Name: priority, dtype: int64"
      ]
     },
     "execution_count": 10,
     "metadata": {},
     "output_type": "execute_result"
    }
   ],
   "source": [
    "data.priority.isnull().value_counts()"
   ]
  },
  {
   "cell_type": "code",
   "execution_count": 11,
   "metadata": {
    "collapsed": true
   },
   "outputs": [],
   "source": [
    "grouped = data.groupby(['description','priority']).count()[['callNumber']]"
   ]
  },
  {
   "cell_type": "code",
   "execution_count": 24,
   "metadata": {
    "collapsed": true
   },
   "outputs": [],
   "source": [
    "key=grouped.loc[grouped.groupby(level=0).idxmax()['callNumber'].values]"
   ]
  },
  {
   "cell_type": "code",
   "execution_count": 25,
   "metadata": {
    "scrolled": true
   },
   "outputs": [
    {
     "data": {
      "text/html": [
       "<div>\n",
       "<style>\n",
       "    .dataframe thead tr:only-child th {\n",
       "        text-align: right;\n",
       "    }\n",
       "\n",
       "    .dataframe thead th {\n",
       "        text-align: left;\n",
       "    }\n",
       "\n",
       "    .dataframe tbody tr th {\n",
       "        vertical-align: top;\n",
       "    }\n",
       "</style>\n",
       "<table border=\"1\" class=\"dataframe\">\n",
       "  <thead>\n",
       "    <tr style=\"text-align: right;\">\n",
       "      <th></th>\n",
       "      <th></th>\n",
       "      <th>callNumber</th>\n",
       "    </tr>\n",
       "    <tr>\n",
       "      <th>description</th>\n",
       "      <th>priority</th>\n",
       "      <th></th>\n",
       "    </tr>\n",
       "  </thead>\n",
       "  <tbody>\n",
       "    <tr>\n",
       "      <th>&amp;  75</th>\n",
       "      <th>Medium</th>\n",
       "      <td>1</td>\n",
       "    </tr>\n",
       "    <tr>\n",
       "      <th>&amp; 28</th>\n",
       "      <th>Medium</th>\n",
       "      <td>1</td>\n",
       "    </tr>\n",
       "    <tr>\n",
       "      <th>&amp; 30</th>\n",
       "      <th>Low</th>\n",
       "      <td>1</td>\n",
       "    </tr>\n",
       "    <tr>\n",
       "      <th>&amp; 49</th>\n",
       "      <th>Medium</th>\n",
       "      <td>1</td>\n",
       "    </tr>\n",
       "    <tr>\n",
       "      <th>&amp; 4D</th>\n",
       "      <th>High</th>\n",
       "      <td>1</td>\n",
       "    </tr>\n",
       "  </tbody>\n",
       "</table>\n",
       "</div>"
      ],
      "text/plain": [
       "                      callNumber\n",
       "description priority            \n",
       "&  75       Medium             1\n",
       "& 28        Medium             1\n",
       "& 30        Low                1\n",
       "& 49        Medium             1\n",
       "& 4D        High               1"
      ]
     },
     "execution_count": 25,
     "metadata": {},
     "output_type": "execute_result"
    }
   ],
   "source": [
    "key.head()"
   ]
  },
  {
   "cell_type": "code",
   "execution_count": 26,
   "metadata": {},
   "outputs": [
    {
     "data": {
      "text/html": [
       "<div>\n",
       "<style>\n",
       "    .dataframe thead tr:only-child th {\n",
       "        text-align: right;\n",
       "    }\n",
       "\n",
       "    .dataframe thead th {\n",
       "        text-align: left;\n",
       "    }\n",
       "\n",
       "    .dataframe tbody tr th {\n",
       "        vertical-align: top;\n",
       "    }\n",
       "</style>\n",
       "<table border=\"1\" class=\"dataframe\">\n",
       "  <thead>\n",
       "    <tr style=\"text-align: right;\">\n",
       "      <th></th>\n",
       "      <th></th>\n",
       "      <th>callNumber</th>\n",
       "    </tr>\n",
       "    <tr>\n",
       "      <th>description</th>\n",
       "      <th>priority</th>\n",
       "      <th></th>\n",
       "    </tr>\n",
       "  </thead>\n",
       "  <tbody>\n",
       "    <tr>\n",
       "      <th rowspan=\"4\" valign=\"top\">BURGLARY</th>\n",
       "      <th>High</th>\n",
       "      <td>78</td>\n",
       "    </tr>\n",
       "    <tr>\n",
       "      <th>Low</th>\n",
       "      <td>2</td>\n",
       "    </tr>\n",
       "    <tr>\n",
       "      <th>Medium</th>\n",
       "      <td>55470</td>\n",
       "    </tr>\n",
       "    <tr>\n",
       "      <th>Out of Service</th>\n",
       "      <td>9</td>\n",
       "    </tr>\n",
       "  </tbody>\n",
       "</table>\n",
       "</div>"
      ],
      "text/plain": [
       "                            callNumber\n",
       "description priority                  \n",
       "BURGLARY    High                    78\n",
       "            Low                      2\n",
       "            Medium               55470\n",
       "            Out of Service           9"
      ]
     },
     "execution_count": 26,
     "metadata": {},
     "output_type": "execute_result"
    }
   ],
   "source": [
    "grouped.loc[['BURGLARY']]"
   ]
  },
  {
   "cell_type": "code",
   "execution_count": 27,
   "metadata": {},
   "outputs": [
    {
     "data": {
      "text/html": [
       "<div>\n",
       "<style>\n",
       "    .dataframe thead tr:only-child th {\n",
       "        text-align: right;\n",
       "    }\n",
       "\n",
       "    .dataframe thead th {\n",
       "        text-align: left;\n",
       "    }\n",
       "\n",
       "    .dataframe tbody tr th {\n",
       "        vertical-align: top;\n",
       "    }\n",
       "</style>\n",
       "<table border=\"1\" class=\"dataframe\">\n",
       "  <thead>\n",
       "    <tr style=\"text-align: right;\">\n",
       "      <th></th>\n",
       "      <th></th>\n",
       "      <th>callNumber</th>\n",
       "    </tr>\n",
       "    <tr>\n",
       "      <th>description</th>\n",
       "      <th>priority</th>\n",
       "      <th></th>\n",
       "    </tr>\n",
       "  </thead>\n",
       "  <tbody>\n",
       "    <tr>\n",
       "      <th>BURGLARY</th>\n",
       "      <th>Medium</th>\n",
       "      <td>55470</td>\n",
       "    </tr>\n",
       "  </tbody>\n",
       "</table>\n",
       "</div>"
      ],
      "text/plain": [
       "                      callNumber\n",
       "description priority            \n",
       "BURGLARY    Medium         55470"
      ]
     },
     "execution_count": 27,
     "metadata": {},
     "output_type": "execute_result"
    }
   ],
   "source": [
    "key.loc[['BURGLARY']]"
   ]
  },
  {
   "cell_type": "code",
   "execution_count": 59,
   "metadata": {},
   "outputs": [
    {
     "data": {
      "text/plain": [
       "True"
      ]
     },
     "execution_count": 59,
     "metadata": {},
     "output_type": "execute_result"
    }
   ],
   "source": [
    "key.index.is_unique"
   ]
  },
  {
   "cell_type": "code",
   "execution_count": 60,
   "metadata": {
    "collapsed": true
   },
   "outputs": [],
   "source": [
    "key = key.reset_index().drop('callNumber',axis=1).set_index('description')['priority'] #key needs to be a Series"
   ]
  },
  {
   "cell_type": "code",
   "execution_count": 61,
   "metadata": {},
   "outputs": [
    {
     "data": {
      "text/plain": [
       "description\n",
       "0                 High\n",
       "0171     Non-Emergency\n",
       "0361     Non-Emergency\n",
       "04338              Low\n",
       "0600     Non-Emergency\n",
       "Name: priority, dtype: object"
      ]
     },
     "execution_count": 61,
     "metadata": {},
     "output_type": "execute_result"
    }
   ],
   "source": [
    "key.head()"
   ]
  },
  {
   "cell_type": "code",
   "execution_count": 62,
   "metadata": {},
   "outputs": [
    {
     "data": {
      "text/plain": [
       "'Medium'"
      ]
     },
     "execution_count": 62,
     "metadata": {},
     "output_type": "execute_result"
    }
   ],
   "source": [
    "key.loc['BURGLARY']"
   ]
  },
  {
   "cell_type": "code",
   "execution_count": 63,
   "metadata": {},
   "outputs": [
    {
     "data": {
      "text/plain": [
       "True"
      ]
     },
     "execution_count": 63,
     "metadata": {},
     "output_type": "execute_result"
    }
   ],
   "source": [
    "key.index.is_unique"
   ]
  },
  {
   "cell_type": "code",
   "execution_count": 64,
   "metadata": {
    "collapsed": true
   },
   "outputs": [],
   "source": [
    "mask = data.priority.isnull()"
   ]
  },
  {
   "cell_type": "code",
   "execution_count": 65,
   "metadata": {},
   "outputs": [
    {
     "data": {
      "text/plain": [
       "6655"
      ]
     },
     "execution_count": 65,
     "metadata": {},
     "output_type": "execute_result"
    }
   ],
   "source": [
    "data.loc[mask,'priority'].size"
   ]
  },
  {
   "cell_type": "code",
   "execution_count": 66,
   "metadata": {},
   "outputs": [
    {
     "data": {
      "text/plain": [
       "6651"
      ]
     },
     "execution_count": 66,
     "metadata": {},
     "output_type": "execute_result"
    }
   ],
   "source": [
    "key.loc[data.loc[mask,'description']].count()"
   ]
  },
  {
   "cell_type": "code",
   "execution_count": 67,
   "metadata": {},
   "outputs": [
    {
     "data": {
      "text/plain": [
       "array(['Medium', 'Medium', 'High', ..., 'Medium', 'Medium', 'Low'], dtype=object)"
      ]
     },
     "execution_count": 67,
     "metadata": {},
     "output_type": "execute_result"
    }
   ],
   "source": [
    "key.loc[data.loc[mask,'description']].values"
   ]
  },
  {
   "cell_type": "code",
   "execution_count": 68,
   "metadata": {
    "collapsed": true,
    "scrolled": true
   },
   "outputs": [],
   "source": [
    "data.loc[mask,'priority'] = key.loc[data.loc[mask,'description']].values"
   ]
  },
  {
   "cell_type": "code",
   "execution_count": 70,
   "metadata": {},
   "outputs": [
    {
     "data": {
      "text/plain": [
       "False    2799910\n",
       "True           4\n",
       "Name: priority, dtype: int64"
      ]
     },
     "execution_count": 70,
     "metadata": {},
     "output_type": "execute_result"
    }
   ],
   "source": [
    "data.priority.isnull().value_counts()"
   ]
  },
  {
   "cell_type": "code",
   "execution_count": 71,
   "metadata": {
    "scrolled": true
   },
   "outputs": [
    {
     "data": {
      "text/html": [
       "<div>\n",
       "<style>\n",
       "    .dataframe thead tr:only-child th {\n",
       "        text-align: right;\n",
       "    }\n",
       "\n",
       "    .dataframe thead th {\n",
       "        text-align: left;\n",
       "    }\n",
       "\n",
       "    .dataframe tbody tr th {\n",
       "        vertical-align: top;\n",
       "    }\n",
       "</style>\n",
       "<table border=\"1\" class=\"dataframe\">\n",
       "  <thead>\n",
       "    <tr style=\"text-align: right;\">\n",
       "      <th></th>\n",
       "      <th>callDateTime</th>\n",
       "      <th>priority</th>\n",
       "      <th>district</th>\n",
       "      <th>description</th>\n",
       "      <th>callNumber</th>\n",
       "      <th>incidentLocation</th>\n",
       "      <th>location</th>\n",
       "    </tr>\n",
       "  </thead>\n",
       "  <tbody>\n",
       "    <tr>\n",
       "      <th>1593028</th>\n",
       "      <td>2015-04-30 08:24:00</td>\n",
       "      <td>NaN</td>\n",
       "      <td>ND</td>\n",
       "      <td>CHILDREN ALONE</td>\n",
       "      <td>P151200451</td>\n",
       "      <td>3600 FALLS RD</td>\n",
       "      <td>(39.3309611,-76.6351760)</td>\n",
       "    </tr>\n",
       "    <tr>\n",
       "      <th>1802262</th>\n",
       "      <td>2015-05-05 19:42:00</td>\n",
       "      <td>NaN</td>\n",
       "      <td>CD</td>\n",
       "      <td>CK ADVISE</td>\n",
       "      <td>P151252529</td>\n",
       "      <td>300 W MADISON ST</td>\n",
       "      <td>(39.2984330,-76.6202020)</td>\n",
       "    </tr>\n",
       "    <tr>\n",
       "      <th>1818262</th>\n",
       "      <td>2015-05-11 07:09:00</td>\n",
       "      <td>NaN</td>\n",
       "      <td>NE</td>\n",
       "      <td>COURT ORDER VIOL</td>\n",
       "      <td>P151310490</td>\n",
       "      <td>BELAIR RD/LAKE AV</td>\n",
       "      <td>(39.322656,-76.572254)</td>\n",
       "    </tr>\n",
       "    <tr>\n",
       "      <th>1822727</th>\n",
       "      <td>2015-05-12 17:42:00</td>\n",
       "      <td>NaN</td>\n",
       "      <td>SW</td>\n",
       "      <td>MMEARING</td>\n",
       "      <td>P151322251</td>\n",
       "      <td>N MONROE ST/W BALTIMORE ST</td>\n",
       "      <td>(39.288163,-76.646942)</td>\n",
       "    </tr>\n",
       "  </tbody>\n",
       "</table>\n",
       "</div>"
      ],
      "text/plain": [
       "                callDateTime priority district       description  callNumber  \\\n",
       "1593028  2015-04-30 08:24:00      NaN       ND    CHILDREN ALONE  P151200451   \n",
       "1802262  2015-05-05 19:42:00      NaN       CD         CK ADVISE  P151252529   \n",
       "1818262  2015-05-11 07:09:00      NaN       NE  COURT ORDER VIOL  P151310490   \n",
       "1822727  2015-05-12 17:42:00      NaN       SW          MMEARING  P151322251   \n",
       "\n",
       "                   incidentLocation                  location  \n",
       "1593028               3600 FALLS RD  (39.3309611,-76.6351760)  \n",
       "1802262            300 W MADISON ST  (39.2984330,-76.6202020)  \n",
       "1818262           BELAIR RD/LAKE AV    (39.322656,-76.572254)  \n",
       "1822727  N MONROE ST/W BALTIMORE ST    (39.288163,-76.646942)  "
      ]
     },
     "execution_count": 71,
     "metadata": {},
     "output_type": "execute_result"
    }
   ],
   "source": [
    "data[data.priority.isnull()]"
   ]
  },
  {
   "cell_type": "markdown",
   "metadata": {},
   "source": [
    "Unique descriptions with no priority data.<br>\n",
    "Use similar descriptions to fill missing priorities."
   ]
  },
  {
   "cell_type": "code",
   "execution_count": 72,
   "metadata": {},
   "outputs": [
    {
     "data": {
      "text/html": [
       "<div>\n",
       "<style>\n",
       "    .dataframe thead tr:only-child th {\n",
       "        text-align: right;\n",
       "    }\n",
       "\n",
       "    .dataframe thead th {\n",
       "        text-align: left;\n",
       "    }\n",
       "\n",
       "    .dataframe tbody tr th {\n",
       "        vertical-align: top;\n",
       "    }\n",
       "</style>\n",
       "<table border=\"1\" class=\"dataframe\">\n",
       "  <thead>\n",
       "    <tr style=\"text-align: right;\">\n",
       "      <th></th>\n",
       "      <th>callDateTime</th>\n",
       "      <th>priority</th>\n",
       "      <th>district</th>\n",
       "      <th>description</th>\n",
       "      <th>callNumber</th>\n",
       "      <th>incidentLocation</th>\n",
       "      <th>location</th>\n",
       "    </tr>\n",
       "  </thead>\n",
       "  <tbody>\n",
       "    <tr>\n",
       "      <th>119058</th>\n",
       "      <td>2015-08-21 10:41:00</td>\n",
       "      <td>Medium</td>\n",
       "      <td>ED</td>\n",
       "      <td>POS CHILD ALONE</td>\n",
       "      <td>P152330998</td>\n",
       "      <td>1800 N COLLINGTON AV</td>\n",
       "      <td>(39.3110692,-76.5876606)</td>\n",
       "    </tr>\n",
       "    <tr>\n",
       "      <th>157498</th>\n",
       "      <td>2015-09-04 10:26:00</td>\n",
       "      <td>Medium</td>\n",
       "      <td>ND</td>\n",
       "      <td>POSS CHILD ALONE</td>\n",
       "      <td>P152471099</td>\n",
       "      <td>2800 FOX ST</td>\n",
       "      <td>(39.3211126,-76.6223437)</td>\n",
       "    </tr>\n",
       "    <tr>\n",
       "      <th>189709</th>\n",
       "      <td>2015-12-07 08:47:00</td>\n",
       "      <td>Low</td>\n",
       "      <td>SW</td>\n",
       "      <td>CHILD ALONE</td>\n",
       "      <td>P153410596</td>\n",
       "      <td>3600 W LEXINGTON ST</td>\n",
       "      <td>(39.2905262,-76.6772091)</td>\n",
       "    </tr>\n",
       "    <tr>\n",
       "      <th>799469</th>\n",
       "      <td>2016-06-12 05:45:00</td>\n",
       "      <td>Low</td>\n",
       "      <td>SE</td>\n",
       "      <td>CHILD ALONE</td>\n",
       "      <td>P161640638</td>\n",
       "      <td>E FAYETTE ST/N PATTERSON PARK AV</td>\n",
       "      <td>(39.294305,-76.584840)</td>\n",
       "    </tr>\n",
       "    <tr>\n",
       "      <th>1772518</th>\n",
       "      <td>2015-03-21 10:17:00</td>\n",
       "      <td>Medium</td>\n",
       "      <td>SD</td>\n",
       "      <td>CHILD ALONE</td>\n",
       "      <td>P150800833</td>\n",
       "      <td>2400 SEAMON AV</td>\n",
       "      <td>(39.2532445,-76.6242006)</td>\n",
       "    </tr>\n",
       "    <tr>\n",
       "      <th>1790194</th>\n",
       "      <td>2015-05-01 07:56:00</td>\n",
       "      <td>Low</td>\n",
       "      <td>NE</td>\n",
       "      <td>CHILD ALONE</td>\n",
       "      <td>P151210433</td>\n",
       "      <td>4900 BELAIR RD</td>\n",
       "      <td>(39.3347420,-76.5570290)</td>\n",
       "    </tr>\n",
       "  </tbody>\n",
       "</table>\n",
       "</div>"
      ],
      "text/plain": [
       "                callDateTime priority district       description  callNumber  \\\n",
       "119058   2015-08-21 10:41:00   Medium       ED   POS CHILD ALONE  P152330998   \n",
       "157498   2015-09-04 10:26:00   Medium       ND  POSS CHILD ALONE  P152471099   \n",
       "189709   2015-12-07 08:47:00      Low       SW       CHILD ALONE  P153410596   \n",
       "799469   2016-06-12 05:45:00      Low       SE       CHILD ALONE  P161640638   \n",
       "1772518  2015-03-21 10:17:00   Medium       SD       CHILD ALONE  P150800833   \n",
       "1790194  2015-05-01 07:56:00      Low       NE       CHILD ALONE  P151210433   \n",
       "\n",
       "                         incidentLocation                  location  \n",
       "119058               1800 N COLLINGTON AV  (39.3110692,-76.5876606)  \n",
       "157498                        2800 FOX ST  (39.3211126,-76.6223437)  \n",
       "189709                3600 W LEXINGTON ST  (39.2905262,-76.6772091)  \n",
       "799469   E FAYETTE ST/N PATTERSON PARK AV    (39.294305,-76.584840)  \n",
       "1772518                    2400 SEAMON AV  (39.2532445,-76.6242006)  \n",
       "1790194                    4900 BELAIR RD  (39.3347420,-76.5570290)  "
      ]
     },
     "execution_count": 72,
     "metadata": {},
     "output_type": "execute_result"
    }
   ],
   "source": [
    "data[data.description.str.contains('CHILD ALONE')]"
   ]
  },
  {
   "cell_type": "code",
   "execution_count": 73,
   "metadata": {
    "collapsed": true
   },
   "outputs": [],
   "source": [
    "data.loc[(data.description == 'CHILDREN ALONE') & (data.priority.isnull()),'priority'] = 'Medium'"
   ]
  },
  {
   "cell_type": "code",
   "execution_count": 74,
   "metadata": {},
   "outputs": [
    {
     "data": {
      "text/html": [
       "<div>\n",
       "<style>\n",
       "    .dataframe thead tr:only-child th {\n",
       "        text-align: right;\n",
       "    }\n",
       "\n",
       "    .dataframe thead th {\n",
       "        text-align: left;\n",
       "    }\n",
       "\n",
       "    .dataframe tbody tr th {\n",
       "        vertical-align: top;\n",
       "    }\n",
       "</style>\n",
       "<table border=\"1\" class=\"dataframe\">\n",
       "  <thead>\n",
       "    <tr style=\"text-align: right;\">\n",
       "      <th></th>\n",
       "      <th>callDateTime</th>\n",
       "      <th>priority</th>\n",
       "      <th>district</th>\n",
       "      <th>description</th>\n",
       "      <th>callNumber</th>\n",
       "      <th>incidentLocation</th>\n",
       "      <th>location</th>\n",
       "    </tr>\n",
       "  </thead>\n",
       "  <tbody>\n",
       "    <tr>\n",
       "      <th>1802262</th>\n",
       "      <td>2015-05-05 19:42:00</td>\n",
       "      <td>NaN</td>\n",
       "      <td>CD</td>\n",
       "      <td>CK ADVISE</td>\n",
       "      <td>P151252529</td>\n",
       "      <td>300 W MADISON ST</td>\n",
       "      <td>(39.2984330,-76.6202020)</td>\n",
       "    </tr>\n",
       "    <tr>\n",
       "      <th>1818262</th>\n",
       "      <td>2015-05-11 07:09:00</td>\n",
       "      <td>NaN</td>\n",
       "      <td>NE</td>\n",
       "      <td>COURT ORDER VIOL</td>\n",
       "      <td>P151310490</td>\n",
       "      <td>BELAIR RD/LAKE AV</td>\n",
       "      <td>(39.322656,-76.572254)</td>\n",
       "    </tr>\n",
       "    <tr>\n",
       "      <th>1822727</th>\n",
       "      <td>2015-05-12 17:42:00</td>\n",
       "      <td>NaN</td>\n",
       "      <td>SW</td>\n",
       "      <td>MMEARING</td>\n",
       "      <td>P151322251</td>\n",
       "      <td>N MONROE ST/W BALTIMORE ST</td>\n",
       "      <td>(39.288163,-76.646942)</td>\n",
       "    </tr>\n",
       "  </tbody>\n",
       "</table>\n",
       "</div>"
      ],
      "text/plain": [
       "                callDateTime priority district       description  callNumber  \\\n",
       "1802262  2015-05-05 19:42:00      NaN       CD         CK ADVISE  P151252529   \n",
       "1818262  2015-05-11 07:09:00      NaN       NE  COURT ORDER VIOL  P151310490   \n",
       "1822727  2015-05-12 17:42:00      NaN       SW          MMEARING  P151322251   \n",
       "\n",
       "                   incidentLocation                  location  \n",
       "1802262            300 W MADISON ST  (39.2984330,-76.6202020)  \n",
       "1818262           BELAIR RD/LAKE AV    (39.322656,-76.572254)  \n",
       "1822727  N MONROE ST/W BALTIMORE ST    (39.288163,-76.646942)  "
      ]
     },
     "execution_count": 74,
     "metadata": {},
     "output_type": "execute_result"
    }
   ],
   "source": [
    "data[data.priority.isnull()]"
   ]
  },
  {
   "cell_type": "code",
   "execution_count": 75,
   "metadata": {},
   "outputs": [
    {
     "data": {
      "text/html": [
       "<div>\n",
       "<style>\n",
       "    .dataframe thead tr:only-child th {\n",
       "        text-align: right;\n",
       "    }\n",
       "\n",
       "    .dataframe thead th {\n",
       "        text-align: left;\n",
       "    }\n",
       "\n",
       "    .dataframe tbody tr th {\n",
       "        vertical-align: top;\n",
       "    }\n",
       "</style>\n",
       "<table border=\"1\" class=\"dataframe\">\n",
       "  <thead>\n",
       "    <tr style=\"text-align: right;\">\n",
       "      <th></th>\n",
       "      <th>callDateTime</th>\n",
       "      <th>district</th>\n",
       "      <th>description</th>\n",
       "      <th>callNumber</th>\n",
       "      <th>incidentLocation</th>\n",
       "      <th>location</th>\n",
       "    </tr>\n",
       "    <tr>\n",
       "      <th>priority</th>\n",
       "      <th></th>\n",
       "      <th></th>\n",
       "      <th></th>\n",
       "      <th></th>\n",
       "      <th></th>\n",
       "      <th></th>\n",
       "    </tr>\n",
       "  </thead>\n",
       "  <tbody>\n",
       "    <tr>\n",
       "      <th>Low</th>\n",
       "      <td>24</td>\n",
       "      <td>24</td>\n",
       "      <td>24</td>\n",
       "      <td>24</td>\n",
       "      <td>24</td>\n",
       "      <td>24</td>\n",
       "    </tr>\n",
       "    <tr>\n",
       "      <th>Medium</th>\n",
       "      <td>12</td>\n",
       "      <td>12</td>\n",
       "      <td>12</td>\n",
       "      <td>12</td>\n",
       "      <td>12</td>\n",
       "      <td>12</td>\n",
       "    </tr>\n",
       "  </tbody>\n",
       "</table>\n",
       "</div>"
      ],
      "text/plain": [
       "          callDateTime  district  description  callNumber  incidentLocation  \\\n",
       "priority                                                                      \n",
       "Low                 24        24           24          24                24   \n",
       "Medium              12        12           12          12                12   \n",
       "\n",
       "          location  \n",
       "priority            \n",
       "Low             24  \n",
       "Medium          12  "
      ]
     },
     "execution_count": 75,
     "metadata": {},
     "output_type": "execute_result"
    }
   ],
   "source": [
    "data[(data.description.str.contains('CHECK')) & (data.description.str.contains('ADVISE'))].groupby('priority').count()"
   ]
  },
  {
   "cell_type": "code",
   "execution_count": 76,
   "metadata": {
    "collapsed": true
   },
   "outputs": [],
   "source": [
    "data.loc[(data.description == 'CK ADVISE') & (data.priority.isnull()),'priority'] = 'Low'"
   ]
  },
  {
   "cell_type": "code",
   "execution_count": 77,
   "metadata": {},
   "outputs": [
    {
     "data": {
      "text/html": [
       "<div>\n",
       "<style>\n",
       "    .dataframe thead tr:only-child th {\n",
       "        text-align: right;\n",
       "    }\n",
       "\n",
       "    .dataframe thead th {\n",
       "        text-align: left;\n",
       "    }\n",
       "\n",
       "    .dataframe tbody tr th {\n",
       "        vertical-align: top;\n",
       "    }\n",
       "</style>\n",
       "<table border=\"1\" class=\"dataframe\">\n",
       "  <thead>\n",
       "    <tr style=\"text-align: right;\">\n",
       "      <th></th>\n",
       "      <th>callDateTime</th>\n",
       "      <th>priority</th>\n",
       "      <th>district</th>\n",
       "      <th>description</th>\n",
       "      <th>callNumber</th>\n",
       "      <th>incidentLocation</th>\n",
       "      <th>location</th>\n",
       "    </tr>\n",
       "  </thead>\n",
       "  <tbody>\n",
       "    <tr>\n",
       "      <th>1818262</th>\n",
       "      <td>2015-05-11 07:09:00</td>\n",
       "      <td>NaN</td>\n",
       "      <td>NE</td>\n",
       "      <td>COURT ORDER VIOL</td>\n",
       "      <td>P151310490</td>\n",
       "      <td>BELAIR RD/LAKE AV</td>\n",
       "      <td>(39.322656,-76.572254)</td>\n",
       "    </tr>\n",
       "    <tr>\n",
       "      <th>1822727</th>\n",
       "      <td>2015-05-12 17:42:00</td>\n",
       "      <td>NaN</td>\n",
       "      <td>SW</td>\n",
       "      <td>MMEARING</td>\n",
       "      <td>P151322251</td>\n",
       "      <td>N MONROE ST/W BALTIMORE ST</td>\n",
       "      <td>(39.288163,-76.646942)</td>\n",
       "    </tr>\n",
       "  </tbody>\n",
       "</table>\n",
       "</div>"
      ],
      "text/plain": [
       "                callDateTime priority district       description  callNumber  \\\n",
       "1818262  2015-05-11 07:09:00      NaN       NE  COURT ORDER VIOL  P151310490   \n",
       "1822727  2015-05-12 17:42:00      NaN       SW          MMEARING  P151322251   \n",
       "\n",
       "                   incidentLocation                location  \n",
       "1818262           BELAIR RD/LAKE AV  (39.322656,-76.572254)  \n",
       "1822727  N MONROE ST/W BALTIMORE ST  (39.288163,-76.646942)  "
      ]
     },
     "execution_count": 77,
     "metadata": {},
     "output_type": "execute_result"
    }
   ],
   "source": [
    "data[data.priority.isnull()]"
   ]
  },
  {
   "cell_type": "code",
   "execution_count": 78,
   "metadata": {},
   "outputs": [
    {
     "data": {
      "text/html": [
       "<div>\n",
       "<style>\n",
       "    .dataframe thead tr:only-child th {\n",
       "        text-align: right;\n",
       "    }\n",
       "\n",
       "    .dataframe thead th {\n",
       "        text-align: left;\n",
       "    }\n",
       "\n",
       "    .dataframe tbody tr th {\n",
       "        vertical-align: top;\n",
       "    }\n",
       "</style>\n",
       "<table border=\"1\" class=\"dataframe\">\n",
       "  <thead>\n",
       "    <tr style=\"text-align: right;\">\n",
       "      <th></th>\n",
       "      <th>callDateTime</th>\n",
       "      <th>district</th>\n",
       "      <th>description</th>\n",
       "      <th>callNumber</th>\n",
       "      <th>incidentLocation</th>\n",
       "      <th>location</th>\n",
       "    </tr>\n",
       "    <tr>\n",
       "      <th>priority</th>\n",
       "      <th></th>\n",
       "      <th></th>\n",
       "      <th></th>\n",
       "      <th></th>\n",
       "      <th></th>\n",
       "      <th></th>\n",
       "    </tr>\n",
       "  </thead>\n",
       "  <tbody>\n",
       "    <tr>\n",
       "      <th>Low</th>\n",
       "      <td>19</td>\n",
       "      <td>19</td>\n",
       "      <td>19</td>\n",
       "      <td>19</td>\n",
       "      <td>19</td>\n",
       "      <td>19</td>\n",
       "    </tr>\n",
       "    <tr>\n",
       "      <th>Medium</th>\n",
       "      <td>1</td>\n",
       "      <td>1</td>\n",
       "      <td>1</td>\n",
       "      <td>1</td>\n",
       "      <td>1</td>\n",
       "      <td>1</td>\n",
       "    </tr>\n",
       "  </tbody>\n",
       "</table>\n",
       "</div>"
      ],
      "text/plain": [
       "          callDateTime  district  description  callNumber  incidentLocation  \\\n",
       "priority                                                                      \n",
       "Low                 19        19           19          19                19   \n",
       "Medium               1         1            1           1                 1   \n",
       "\n",
       "          location  \n",
       "priority            \n",
       "Low             19  \n",
       "Medium           1  "
      ]
     },
     "execution_count": 78,
     "metadata": {},
     "output_type": "execute_result"
    }
   ],
   "source": [
    "data.loc[(data.description.str.contains('COURT')) & (data.description.str.contains('VIO'))].groupby('priority').count()"
   ]
  },
  {
   "cell_type": "code",
   "execution_count": 79,
   "metadata": {
    "collapsed": true
   },
   "outputs": [],
   "source": [
    "data.loc[(data.description == 'COURT ORDER VIOL') & (data.priority.isnull()),'priority'] = 'Low'"
   ]
  },
  {
   "cell_type": "code",
   "execution_count": 80,
   "metadata": {},
   "outputs": [
    {
     "data": {
      "text/html": [
       "<div>\n",
       "<style>\n",
       "    .dataframe thead tr:only-child th {\n",
       "        text-align: right;\n",
       "    }\n",
       "\n",
       "    .dataframe thead th {\n",
       "        text-align: left;\n",
       "    }\n",
       "\n",
       "    .dataframe tbody tr th {\n",
       "        vertical-align: top;\n",
       "    }\n",
       "</style>\n",
       "<table border=\"1\" class=\"dataframe\">\n",
       "  <thead>\n",
       "    <tr style=\"text-align: right;\">\n",
       "      <th></th>\n",
       "      <th>callDateTime</th>\n",
       "      <th>priority</th>\n",
       "      <th>district</th>\n",
       "      <th>description</th>\n",
       "      <th>callNumber</th>\n",
       "      <th>incidentLocation</th>\n",
       "      <th>location</th>\n",
       "    </tr>\n",
       "  </thead>\n",
       "  <tbody>\n",
       "    <tr>\n",
       "      <th>1822727</th>\n",
       "      <td>2015-05-12 17:42:00</td>\n",
       "      <td>NaN</td>\n",
       "      <td>SW</td>\n",
       "      <td>MMEARING</td>\n",
       "      <td>P151322251</td>\n",
       "      <td>N MONROE ST/W BALTIMORE ST</td>\n",
       "      <td>(39.288163,-76.646942)</td>\n",
       "    </tr>\n",
       "  </tbody>\n",
       "</table>\n",
       "</div>"
      ],
      "text/plain": [
       "                callDateTime priority district description  callNumber  \\\n",
       "1822727  2015-05-12 17:42:00      NaN       SW    MMEARING  P151322251   \n",
       "\n",
       "                   incidentLocation                location  \n",
       "1822727  N MONROE ST/W BALTIMORE ST  (39.288163,-76.646942)  "
      ]
     },
     "execution_count": 80,
     "metadata": {},
     "output_type": "execute_result"
    }
   ],
   "source": [
    "data[data.priority.isnull()]"
   ]
  },
  {
   "cell_type": "code",
   "execution_count": 81,
   "metadata": {},
   "outputs": [
    {
     "data": {
      "text/html": [
       "<div>\n",
       "<style>\n",
       "    .dataframe thead tr:only-child th {\n",
       "        text-align: right;\n",
       "    }\n",
       "\n",
       "    .dataframe thead th {\n",
       "        text-align: left;\n",
       "    }\n",
       "\n",
       "    .dataframe tbody tr th {\n",
       "        vertical-align: top;\n",
       "    }\n",
       "</style>\n",
       "<table border=\"1\" class=\"dataframe\">\n",
       "  <thead>\n",
       "    <tr style=\"text-align: right;\">\n",
       "      <th></th>\n",
       "      <th>callDateTime</th>\n",
       "      <th>priority</th>\n",
       "      <th>district</th>\n",
       "      <th>description</th>\n",
       "      <th>callNumber</th>\n",
       "      <th>incidentLocation</th>\n",
       "      <th>location</th>\n",
       "    </tr>\n",
       "  </thead>\n",
       "  <tbody>\n",
       "    <tr>\n",
       "      <th>1822727</th>\n",
       "      <td>2015-05-12 17:42:00</td>\n",
       "      <td>NaN</td>\n",
       "      <td>SW</td>\n",
       "      <td>MMEARING</td>\n",
       "      <td>P151322251</td>\n",
       "      <td>N MONROE ST/W BALTIMORE ST</td>\n",
       "      <td>(39.288163,-76.646942)</td>\n",
       "    </tr>\n",
       "  </tbody>\n",
       "</table>\n",
       "</div>"
      ],
      "text/plain": [
       "                callDateTime priority district description  callNumber  \\\n",
       "1822727  2015-05-12 17:42:00      NaN       SW    MMEARING  P151322251   \n",
       "\n",
       "                   incidentLocation                location  \n",
       "1822727  N MONROE ST/W BALTIMORE ST  (39.288163,-76.646942)  "
      ]
     },
     "execution_count": 81,
     "metadata": {},
     "output_type": "execute_result"
    }
   ],
   "source": [
    "data[data.description.str.contains('MMEARING')]"
   ]
  },
  {
   "cell_type": "code",
   "execution_count": 82,
   "metadata": {},
   "outputs": [
    {
     "data": {
      "text/html": [
       "<div>\n",
       "<style>\n",
       "    .dataframe thead tr:only-child th {\n",
       "        text-align: right;\n",
       "    }\n",
       "\n",
       "    .dataframe thead th {\n",
       "        text-align: left;\n",
       "    }\n",
       "\n",
       "    .dataframe tbody tr th {\n",
       "        vertical-align: top;\n",
       "    }\n",
       "</style>\n",
       "<table border=\"1\" class=\"dataframe\">\n",
       "  <thead>\n",
       "    <tr style=\"text-align: right;\">\n",
       "      <th></th>\n",
       "      <th>callDateTime</th>\n",
       "      <th>priority</th>\n",
       "      <th>district</th>\n",
       "      <th>description</th>\n",
       "      <th>callNumber</th>\n",
       "      <th>incidentLocation</th>\n",
       "      <th>location</th>\n",
       "    </tr>\n",
       "  </thead>\n",
       "  <tbody>\n",
       "  </tbody>\n",
       "</table>\n",
       "</div>"
      ],
      "text/plain": [
       "Empty DataFrame\n",
       "Columns: [callDateTime, priority, district, description, callNumber, incidentLocation, location]\n",
       "Index: []"
      ]
     },
     "execution_count": 82,
     "metadata": {},
     "output_type": "execute_result"
    }
   ],
   "source": [
    "data[data.description.str.contains('SMEARING')]"
   ]
  },
  {
   "cell_type": "code",
   "execution_count": 83,
   "metadata": {
    "collapsed": true
   },
   "outputs": [],
   "source": [
    "data.loc[(data.description == 'MMEARING') & (data.priority.isnull()),'priority'] = 'Low'"
   ]
  },
  {
   "cell_type": "code",
   "execution_count": 84,
   "metadata": {
    "collapsed": true
   },
   "outputs": [],
   "source": [
    "data.loc[data.description == 'MMEARING','description'] = 'SMEARING'"
   ]
  },
  {
   "cell_type": "code",
   "execution_count": 85,
   "metadata": {},
   "outputs": [
    {
     "data": {
      "text/plain": [
       "False    2799914\n",
       "Name: priority, dtype: int64"
      ]
     },
     "execution_count": 85,
     "metadata": {},
     "output_type": "execute_result"
    }
   ],
   "source": [
    "data.priority.isnull().value_counts()"
   ]
  },
  {
   "cell_type": "code",
   "execution_count": 86,
   "metadata": {
    "collapsed": true
   },
   "outputs": [],
   "source": [
    "data.to_csv('911_calls_for_service_priority.csv')"
   ]
  },
  {
   "cell_type": "code",
   "execution_count": 87,
   "metadata": {
    "collapsed": true
   },
   "outputs": [],
   "source": [
    "data = pd.read_csv('911_calls_for_service_priority.csv')"
   ]
  },
  {
   "cell_type": "code",
   "execution_count": 88,
   "metadata": {},
   "outputs": [
    {
     "data": {
      "text/html": [
       "<div>\n",
       "<style>\n",
       "    .dataframe thead tr:only-child th {\n",
       "        text-align: right;\n",
       "    }\n",
       "\n",
       "    .dataframe thead th {\n",
       "        text-align: left;\n",
       "    }\n",
       "\n",
       "    .dataframe tbody tr th {\n",
       "        vertical-align: top;\n",
       "    }\n",
       "</style>\n",
       "<table border=\"1\" class=\"dataframe\">\n",
       "  <thead>\n",
       "    <tr style=\"text-align: right;\">\n",
       "      <th></th>\n",
       "      <th>Unnamed: 0</th>\n",
       "      <th>callDateTime</th>\n",
       "      <th>priority</th>\n",
       "      <th>district</th>\n",
       "      <th>description</th>\n",
       "      <th>callNumber</th>\n",
       "      <th>incidentLocation</th>\n",
       "      <th>location</th>\n",
       "    </tr>\n",
       "  </thead>\n",
       "  <tbody>\n",
       "    <tr>\n",
       "      <th>0</th>\n",
       "      <td>0</td>\n",
       "      <td>2015-07-13 10:41:00</td>\n",
       "      <td>Medium</td>\n",
       "      <td>CD</td>\n",
       "      <td>SEE TEXT</td>\n",
       "      <td>P151941002</td>\n",
       "      <td>0 N CALVERT ST</td>\n",
       "      <td>(39.2899299,-76.6123462)</td>\n",
       "    </tr>\n",
       "    <tr>\n",
       "      <th>1</th>\n",
       "      <td>1</td>\n",
       "      <td>2015-07-13 10:47:00</td>\n",
       "      <td>Medium</td>\n",
       "      <td>CD</td>\n",
       "      <td>911 NO VOICE</td>\n",
       "      <td>P151941003</td>\n",
       "      <td>600 E FAYETTE ST</td>\n",
       "      <td>(39.2906737,-76.6071600)</td>\n",
       "    </tr>\n",
       "    <tr>\n",
       "      <th>2</th>\n",
       "      <td>2</td>\n",
       "      <td>2015-07-13 10:42:00</td>\n",
       "      <td>Medium</td>\n",
       "      <td>CD</td>\n",
       "      <td>911 NO VOICE</td>\n",
       "      <td>P151941004</td>\n",
       "      <td>200 E BALTIMORE ST</td>\n",
       "      <td>(39.2898910,-76.6120720)</td>\n",
       "    </tr>\n",
       "    <tr>\n",
       "      <th>3</th>\n",
       "      <td>3</td>\n",
       "      <td>2015-07-13 10:45:00</td>\n",
       "      <td>Low</td>\n",
       "      <td>CD</td>\n",
       "      <td>PRKG COMPLAINT</td>\n",
       "      <td>P151941005</td>\n",
       "      <td>800 PARK AV</td>\n",
       "      <td>(39.2985163,-76.6184754)</td>\n",
       "    </tr>\n",
       "    <tr>\n",
       "      <th>4</th>\n",
       "      <td>4</td>\n",
       "      <td>2015-07-13 10:46:00</td>\n",
       "      <td>Medium</td>\n",
       "      <td>SW</td>\n",
       "      <td>AUTO THEFT</td>\n",
       "      <td>P151941006</td>\n",
       "      <td>3500 CLIFTON AV</td>\n",
       "      <td>(39.3112130,-76.6763150)</td>\n",
       "    </tr>\n",
       "  </tbody>\n",
       "</table>\n",
       "</div>"
      ],
      "text/plain": [
       "   Unnamed: 0         callDateTime priority district     description  \\\n",
       "0           0  2015-07-13 10:41:00   Medium       CD        SEE TEXT   \n",
       "1           1  2015-07-13 10:47:00   Medium       CD    911 NO VOICE   \n",
       "2           2  2015-07-13 10:42:00   Medium       CD    911 NO VOICE   \n",
       "3           3  2015-07-13 10:45:00      Low       CD  PRKG COMPLAINT   \n",
       "4           4  2015-07-13 10:46:00   Medium       SW      AUTO THEFT   \n",
       "\n",
       "   callNumber    incidentLocation                  location  \n",
       "0  P151941002      0 N CALVERT ST  (39.2899299,-76.6123462)  \n",
       "1  P151941003    600 E FAYETTE ST  (39.2906737,-76.6071600)  \n",
       "2  P151941004  200 E BALTIMORE ST  (39.2898910,-76.6120720)  \n",
       "3  P151941005         800 PARK AV  (39.2985163,-76.6184754)  \n",
       "4  P151941006     3500 CLIFTON AV  (39.3112130,-76.6763150)  "
      ]
     },
     "execution_count": 88,
     "metadata": {},
     "output_type": "execute_result"
    }
   ],
   "source": [
    "data.head()"
   ]
  },
  {
   "cell_type": "code",
   "execution_count": 89,
   "metadata": {},
   "outputs": [
    {
     "data": {
      "text/plain": [
       "True"
      ]
     },
     "execution_count": 89,
     "metadata": {},
     "output_type": "execute_result"
    }
   ],
   "source": [
    "data.index.is_unique"
   ]
  },
  {
   "cell_type": "code",
   "execution_count": 90,
   "metadata": {},
   "outputs": [
    {
     "data": {
      "text/plain": [
       "False    2799914\n",
       "Name: priority, dtype: int64"
      ]
     },
     "execution_count": 90,
     "metadata": {},
     "output_type": "execute_result"
    }
   ],
   "source": [
    "data.priority.isnull().value_counts()"
   ]
  }
 ],
 "metadata": {
  "kernelspec": {
   "display_name": "Python 3",
   "language": "python",
   "name": "python3"
  },
  "language_info": {
   "codemirror_mode": {
    "name": "ipython",
    "version": 3
   },
   "file_extension": ".py",
   "mimetype": "text/x-python",
   "name": "python",
   "nbconvert_exporter": "python",
   "pygments_lexer": "ipython3",
   "version": "3.6.2"
  }
 },
 "nbformat": 4,
 "nbformat_minor": 2
}

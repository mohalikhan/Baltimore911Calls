{
 "cells": [
  {
   "cell_type": "code",
   "execution_count": 11,
   "metadata": {
    "collapsed": true
   },
   "outputs": [],
   "source": [
    "import pandas as pd\n",
    "import numpy as np\n",
    "from pathlib import Path\n",
    "import time\n",
    "import datetime"
   ]
  },
  {
   "cell_type": "markdown",
   "metadata": {},
   "source": [
    "#### please install the pygeocoder package before running this code.\n",
    "<b>Follow these steps the install package:</b><br>\n",
    "1) unzip pygeocoder-1.2.5.zip.<br>\n",
    "2) in CMD, cd to: ../pygeocoder-1.2.5/dist/pygeocoder-1.2.5<br>\n",
    "3) run: python setup.py install<br>"
   ]
  },
  {
   "cell_type": "code",
   "execution_count": 12,
   "metadata": {
    "collapsed": true
   },
   "outputs": [],
   "source": [
    "from pygeocoder import Geocoder"
   ]
  },
  {
   "cell_type": "markdown",
   "metadata": {},
   "source": [
    "Put your <b>NAME</b> and the <b>PATCH</b> number below:"
   ]
  },
  {
   "cell_type": "code",
   "execution_count": 13,
   "metadata": {
    "collapsed": true
   },
   "outputs": [],
   "source": [
    "# names: Adil , Mohammad , Asim\n",
    "# Pick a patch number from Patches.xlsx file in shared folder, and write your name:\n",
    "# You can run the code as many times as needed, it will always pick up from when it left per patch.\n",
    "\n",
    "name = 'Adil'\n",
    "patch = 10\n",
    "\n",
    "# Performane parameters (no need to change unless the code is exiting fast)\n",
    "sleep_time = 0.15\n",
    "trials = 30\n",
    "\n",
    "# RUN ALL CELLS BELOW"
   ]
  },
  {
   "cell_type": "code",
   "execution_count": 14,
   "metadata": {
    "collapsed": true
   },
   "outputs": [],
   "source": [
    "p1 = patch * 1000\n",
    "p2 = (patch+1)*1000"
   ]
  },
  {
   "cell_type": "code",
   "execution_count": 15,
   "metadata": {
    "collapsed": true
   },
   "outputs": [],
   "source": [
    "floc = name+'_coordinates_'+repr(p1)+'_'+repr(p2-1)+'.csv'\n",
    "data_file = Path(floc)\n",
    "\n",
    "if not data_file.is_file():\n",
    "    calls = pd.read_csv('911_calls_for_service.csv')\n",
    "    calls = calls.drop('Unnamed: 0',axis=1)\n",
    "    data = calls.loc[(calls.location =='(,)') | (calls.location =='(')].copy()\n",
    "    data = data.iloc[p1:p2]\n",
    "    data.location = data.location.replace(to_replace='(',value='(,)')\n",
    "    data.incidentLocation = data.incidentLocation.apply(lambda x: str(x).replace('/',' '))\n",
    "    data.to_csv(floc)\n",
    "\n",
    "data = pd.read_csv(floc)\n",
    "data = data.drop('Unnamed: 0',axis=1)\n",
    "data.incidentLocation = data.incidentLocation.apply(lambda x: str(x).replace('/',' '))\n",
    "    \n",
    "ogn_before = data.loc[data.location =='(,)','location'].count()"
   ]
  },
  {
   "cell_type": "code",
   "execution_count": 16,
   "metadata": {
    "collapsed": true
   },
   "outputs": [],
   "source": [
    "def get_coordinates(addr):\n",
    "    try:\n",
    "        time.sleep(sleep_time)\n",
    "        result = Geocoder.geocode(addr + ' Baltimore')\n",
    "        if (len(result.coordinates) > 0) & (result.city == 'Baltimore'):\n",
    "            return result.coordinates\n",
    "        else:\n",
    "            return np.nan\n",
    "    except Exception as e:\n",
    "        if str(e).splitlines()[0] == 'Error ZERO_RESULTS':\n",
    "            return np.nan\n",
    "        else:\n",
    "            #print(str(e))\n",
    "            return 'ERROR'"
   ]
  },
  {
   "cell_type": "code",
   "execution_count": 17,
   "metadata": {
    "scrolled": true
   },
   "outputs": [
    {
     "name": "stdout",
     "output_type": "stream",
     "text": [
      "Start time: 2017-12-04 21:18:19.076274\n",
      "Patch: 10000-10999\n",
      "Starting missing:  0 \n",
      "\n",
      "--- Trial 1 ---\n",
      "--- Trial 2 ---\n",
      "--- Trial 3 ---\n",
      "--- Trial 4 ---\n",
      "--- Trial 5 ---\n",
      "--- Trial 6 ---\n",
      "--- Trial 7 ---\n",
      "--- Trial 8 ---\n",
      "--- Trial 9 ---\n",
      "--- Trial 10 ---\n",
      "--- Trial 11 ---\n",
      "--- Trial 12 ---\n",
      "--- Trial 13 ---\n",
      "--- Trial 14 ---\n",
      "--- Trial 15 ---\n",
      "--- Trial 16 ---\n",
      "--- Trial 17 ---\n",
      "--- Trial 18 ---\n",
      "--- Trial 19 ---\n",
      "--- Trial 20 ---\n",
      "--- Trial 21 ---\n",
      "--- Trial 22 ---\n",
      "--- Trial 23 ---\n",
      "--- Trial 24 ---\n",
      "--- Trial 25 ---\n",
      "--- Trial 26 ---\n",
      "--- Trial 27 ---\n",
      "--- Trial 28 ---\n",
      "--- Trial 29 ---\n",
      "--- Trial 30 ---\n",
      "Wall time: 2 ms\n"
     ]
    }
   ],
   "source": [
    "%%time\n",
    "\n",
    "print('Start time:', str(datetime.datetime.now()))\n",
    "print(\"Patch: \"+repr(p1)+'-'+repr(p2-1))\n",
    "print(\"Starting missing: \",ogn_before,'\\n')\n",
    "\n",
    "before=ogn_before\n",
    "trial = 0\n",
    "\n",
    "while trial < trials:\n",
    "    #time.sleep(1)\n",
    "    after = 0\n",
    "    print(\"--- Trial\", trial+1,\"---\")\n",
    "    while before-after > 0:\n",
    "        before = data.loc[data.location =='(,)','location'].count()\n",
    "        for x in range(len(data)):\n",
    "            if (data.iloc[x,6] == '(,)'):\n",
    "                c = get_coordinates(data.iloc[x,5].strip())\n",
    "                if c == 'ERROR':\n",
    "                    break\n",
    "                else:\n",
    "                    data.iloc[x,6] = str(c)\n",
    "        after = data.loc[data.location =='(,)','location'].count()\n",
    "        data.to_csv(floc)\n",
    "        print('T['+repr(trial+1)+']:','Resolved: ',before-after, 'Total: ',ogn_before-after)\n",
    "    trial+=1"
   ]
  },
  {
   "cell_type": "code",
   "execution_count": 18,
   "metadata": {},
   "outputs": [
    {
     "name": "stdout",
     "output_type": "stream",
     "text": [
      "\n",
      "Patch: 10000-10999\n",
      "Starting missing:  0\n",
      "Ending missing:  0\n",
      "Resolved coordinates:  0\n",
      "Success rate: % 92.10000000000001\n"
     ]
    }
   ],
   "source": [
    "print(\"\\nPatch: \"+repr(p1)+'-'+repr(p2-1))\n",
    "print(\"Starting missing: \",ogn_before)\n",
    "print(\"Ending missing: \", after)\n",
    "print(\"Resolved coordinates: \",ogn_before-after)\n",
    "print('Success rate: %', (1-data.location[data.location.isnull()==True].size/len(data))*100)"
   ]
  },
  {
   "cell_type": "code",
   "execution_count": 19,
   "metadata": {},
   "outputs": [
    {
     "data": {
      "text/plain": [
       "0"
      ]
     },
     "execution_count": 19,
     "metadata": {},
     "output_type": "execute_result"
    }
   ],
   "source": [
    "data.loc[data.location =='(,)','location'].count()"
   ]
  },
  {
   "cell_type": "code",
   "execution_count": 20,
   "metadata": {
    "scrolled": true
   },
   "outputs": [
    {
     "data": {
      "text/plain": [
       "False    921\n",
       "True      79\n",
       "Name: location, dtype: int64"
      ]
     },
     "execution_count": 20,
     "metadata": {},
     "output_type": "execute_result"
    }
   ],
   "source": [
    "data.location.isnull().value_counts()"
   ]
  },
  {
   "cell_type": "code",
   "execution_count": 21,
   "metadata": {
    "collapsed": true
   },
   "outputs": [],
   "source": [
    "#data.loc[data.location !='(,)'].tail()"
   ]
  }
 ],
 "metadata": {
  "kernelspec": {
   "display_name": "Python 3",
   "language": "python",
   "name": "python3"
  },
  "language_info": {
   "codemirror_mode": {
    "name": "ipython",
    "version": 3
   },
   "file_extension": ".py",
   "mimetype": "text/x-python",
   "name": "python",
   "nbconvert_exporter": "python",
   "pygments_lexer": "ipython3",
   "version": "3.6.2"
  }
 },
 "nbformat": 4,
 "nbformat_minor": 2
}

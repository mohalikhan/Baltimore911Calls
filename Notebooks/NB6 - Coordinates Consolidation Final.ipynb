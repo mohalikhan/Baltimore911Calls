{
 "cells": [
  {
   "cell_type": "code",
   "execution_count": 1,
   "metadata": {
    "collapsed": true
   },
   "outputs": [],
   "source": [
    "import pandas as pd\n",
    "import numpy as np\n",
    "from pathlib import Path\n",
    "import time\n",
    "import datetime\n",
    "from pygeocoder import Geocoder"
   ]
  },
  {
   "cell_type": "code",
   "execution_count": 2,
   "metadata": {},
   "outputs": [
    {
     "data": {
      "text/plain": [
       "82000"
      ]
     },
     "execution_count": 2,
     "metadata": {},
     "output_type": "execute_result"
    }
   ],
   "source": [
    "records = 82532\n",
    "data = pd.DataFrame\n",
    "list(range(0,records,1000))[-1]"
   ]
  },
  {
   "cell_type": "code",
   "execution_count": 3,
   "metadata": {
    "collapsed": true
   },
   "outputs": [],
   "source": [
    "records = 82532\n",
    "for x in range(0,records,1000):    \n",
    "    floc = './Adil/Adil_coordinates_'+repr(x)+'_'+repr(x+999)+'.csv'\n",
    "    if Path(floc).is_file():\n",
    "        patch = pd.read_csv(floc)\n",
    "        patch = patch.drop(patch.columns[0],axis=1)\n",
    "        if data.empty:\n",
    "            data = patch.copy()\n",
    "        else:\n",
    "            data = pd.concat([data,patch])\n",
    "    \n",
    "    floc = './Mohammad/Mohammad_Ali_coordinates_'+repr(x)+'_'+repr(x+999)+'.csv'\n",
    "    if Path(floc).is_file():\n",
    "        patch = pd.read_csv(floc)\n",
    "        patch = patch.drop(patch.columns[0],axis=1)\n",
    "        if data.empty:\n",
    "            data = patch.copy()\n",
    "        else:\n",
    "            data = pd.concat([data,patch])\n",
    "    \n",
    "    floc = './Asim/Asim_coordinates_'+repr(x)+'_'+repr(x+999)+'.csv'\n",
    "    if Path(floc).is_file():\n",
    "        patch = pd.read_csv(floc)\n",
    "        patch = patch.drop(patch.columns[0],axis=1)\n",
    "        if data.empty:\n",
    "            data = patch.copy()\n",
    "        else:\n",
    "            data = pd.concat([data,patch])\n",
    "#Last Patch            \n",
    "floc = './Adil/Adil_coordinates_'+repr(x)+'_82531.csv'\n",
    "if Path(floc).is_file():\n",
    "    patch = pd.read_csv(floc)\n",
    "    patch = patch.drop(patch.columns[0],axis=1)\n",
    "    if data.empty:\n",
    "        data = patch.copy()\n",
    "    else:\n",
    "        data = pd.concat([data,patch])"
   ]
  },
  {
   "cell_type": "code",
   "execution_count": 4,
   "metadata": {},
   "outputs": [
    {
     "name": "stdout",
     "output_type": "stream",
     "text": [
      "<class 'pandas.core.frame.DataFrame'>\n",
      "Int64Index: 82532 entries, 0 to 531\n",
      "Data columns (total 7 columns):\n",
      "callDateTime        82532 non-null object\n",
      "priority            82532 non-null object\n",
      "district            82532 non-null object\n",
      "description         82532 non-null object\n",
      "callNumber          82532 non-null object\n",
      "incidentLocation    82532 non-null object\n",
      "location            73948 non-null object\n",
      "dtypes: object(7)\n",
      "memory usage: 5.0+ MB\n"
     ]
    }
   ],
   "source": [
    "data.info()"
   ]
  },
  {
   "cell_type": "code",
   "execution_count": 5,
   "metadata": {},
   "outputs": [
    {
     "name": "stdout",
     "output_type": "stream",
     "text": [
      "Success Rate: 89.60% Total: 73948\n",
      "Missing Rate: 10.40% Total: 8584\n"
     ]
    }
   ],
   "source": [
    "print('Success Rate: %.2f' % (data.location[data.location.isnull()==False].size/len(data)*100)\n",
    "      +'% Total:',data.location[data.location.isnull()==False].size)\n",
    "print('Missing Rate: %.2f' % (data.location[data.location.isnull()==True].size/len(data)*100)\n",
    "       +'% Total:',data.location[data.location.isnull()==True].size)"
   ]
  },
  {
   "cell_type": "code",
   "execution_count": 6,
   "metadata": {},
   "outputs": [
    {
     "data": {
      "text/plain": [
       "True"
      ]
     },
     "execution_count": 6,
     "metadata": {},
     "output_type": "execute_result"
    }
   ],
   "source": [
    "data.callNumber.is_unique"
   ]
  },
  {
   "cell_type": "code",
   "execution_count": 7,
   "metadata": {},
   "outputs": [
    {
     "data": {
      "text/html": [
       "<div>\n",
       "<style>\n",
       "    .dataframe thead tr:only-child th {\n",
       "        text-align: right;\n",
       "    }\n",
       "\n",
       "    .dataframe thead th {\n",
       "        text-align: left;\n",
       "    }\n",
       "\n",
       "    .dataframe tbody tr th {\n",
       "        vertical-align: top;\n",
       "    }\n",
       "</style>\n",
       "<table border=\"1\" class=\"dataframe\">\n",
       "  <thead>\n",
       "    <tr style=\"text-align: right;\">\n",
       "      <th></th>\n",
       "      <th>callDateTime</th>\n",
       "      <th>priority</th>\n",
       "      <th>district</th>\n",
       "      <th>description</th>\n",
       "      <th>callNumber</th>\n",
       "      <th>incidentLocation</th>\n",
       "      <th>location</th>\n",
       "    </tr>\n",
       "  </thead>\n",
       "  <tbody>\n",
       "    <tr>\n",
       "      <th>0</th>\n",
       "      <td>7/13/2015 13:07</td>\n",
       "      <td>Non-Emergency</td>\n",
       "      <td>SD</td>\n",
       "      <td>Repairs/Service</td>\n",
       "      <td>P151941437</td>\n",
       "      <td>ASCIATE</td>\n",
       "      <td>(39.305098, -76.617913)</td>\n",
       "    </tr>\n",
       "    <tr>\n",
       "      <th>1</th>\n",
       "      <td>7/13/2015 13:34</td>\n",
       "      <td>Non-Emergency</td>\n",
       "      <td>CD</td>\n",
       "      <td>Foot  Patrol</td>\n",
       "      <td>P151941534</td>\n",
       "      <td>1500-1700BLK PENNS</td>\n",
       "      <td>(39.3020083, -76.6330399)</td>\n",
       "    </tr>\n",
       "    <tr>\n",
       "      <th>2</th>\n",
       "      <td>7/13/2015 13:34</td>\n",
       "      <td>Non-Emergency</td>\n",
       "      <td>CD</td>\n",
       "      <td>Foot  Patrol</td>\n",
       "      <td>P151941535</td>\n",
       "      <td>1500-1700BLK PENNS</td>\n",
       "      <td>(39.3020083, -76.6330399)</td>\n",
       "    </tr>\n",
       "    <tr>\n",
       "      <th>3</th>\n",
       "      <td>7/13/2015 14:45</td>\n",
       "      <td>Non-Emergency</td>\n",
       "      <td>NW</td>\n",
       "      <td>Repairs/Service</td>\n",
       "      <td>P151941776</td>\n",
       "      <td>LEWIN SUB</td>\n",
       "      <td>(39.3394972, -76.6789551)</td>\n",
       "    </tr>\n",
       "    <tr>\n",
       "      <th>4</th>\n",
       "      <td>7/13/2015 17:20</td>\n",
       "      <td>High</td>\n",
       "      <td>SD</td>\n",
       "      <td>Field Interview</td>\n",
       "      <td>P151942362</td>\n",
       "      <td>3100 POTEE ST</td>\n",
       "      <td>(39.2494598, -76.6148733)</td>\n",
       "    </tr>\n",
       "  </tbody>\n",
       "</table>\n",
       "</div>"
      ],
      "text/plain": [
       "      callDateTime       priority district      description  callNumber  \\\n",
       "0  7/13/2015 13:07  Non-Emergency       SD  Repairs/Service  P151941437   \n",
       "1  7/13/2015 13:34  Non-Emergency       CD     Foot  Patrol  P151941534   \n",
       "2  7/13/2015 13:34  Non-Emergency       CD     Foot  Patrol  P151941535   \n",
       "3  7/13/2015 14:45  Non-Emergency       NW  Repairs/Service  P151941776   \n",
       "4  7/13/2015 17:20           High       SD  Field Interview  P151942362   \n",
       "\n",
       "     incidentLocation                   location  \n",
       "0             ASCIATE    (39.305098, -76.617913)  \n",
       "1  1500-1700BLK PENNS  (39.3020083, -76.6330399)  \n",
       "2  1500-1700BLK PENNS  (39.3020083, -76.6330399)  \n",
       "3           LEWIN SUB  (39.3394972, -76.6789551)  \n",
       "4       3100 POTEE ST  (39.2494598, -76.6148733)  "
      ]
     },
     "execution_count": 7,
     "metadata": {},
     "output_type": "execute_result"
    }
   ],
   "source": [
    "data.reset_index(drop=True, inplace=True);data.head()"
   ]
  },
  {
   "cell_type": "code",
   "execution_count": 8,
   "metadata": {
    "collapsed": true
   },
   "outputs": [],
   "source": [
    "calls = pd.read_csv('./911_calls_for_service.csv')"
   ]
  },
  {
   "cell_type": "code",
   "execution_count": 9,
   "metadata": {
    "collapsed": true
   },
   "outputs": [],
   "source": [
    "calls.drop('Unnamed: 0',axis=1, inplace=True)"
   ]
  },
  {
   "cell_type": "code",
   "execution_count": 10,
   "metadata": {},
   "outputs": [
    {
     "data": {
      "text/html": [
       "<div>\n",
       "<style>\n",
       "    .dataframe thead tr:only-child th {\n",
       "        text-align: right;\n",
       "    }\n",
       "\n",
       "    .dataframe thead th {\n",
       "        text-align: left;\n",
       "    }\n",
       "\n",
       "    .dataframe tbody tr th {\n",
       "        vertical-align: top;\n",
       "    }\n",
       "</style>\n",
       "<table border=\"1\" class=\"dataframe\">\n",
       "  <thead>\n",
       "    <tr style=\"text-align: right;\">\n",
       "      <th></th>\n",
       "      <th>callDateTime</th>\n",
       "      <th>priority</th>\n",
       "      <th>district</th>\n",
       "      <th>description</th>\n",
       "      <th>callNumber</th>\n",
       "      <th>incidentLocation</th>\n",
       "      <th>location</th>\n",
       "    </tr>\n",
       "  </thead>\n",
       "  <tbody>\n",
       "    <tr>\n",
       "      <th>2799909</th>\n",
       "      <td>2017-08-21 11:44:00</td>\n",
       "      <td>Medium</td>\n",
       "      <td>NW</td>\n",
       "      <td>BURGLARY</td>\n",
       "      <td>P172331036</td>\n",
       "      <td>2900 VIOLET AV</td>\n",
       "      <td>(39.3297550,-76.6624990)</td>\n",
       "    </tr>\n",
       "    <tr>\n",
       "      <th>2799910</th>\n",
       "      <td>2017-08-21 11:44:00</td>\n",
       "      <td>Low</td>\n",
       "      <td>NE</td>\n",
       "      <td>GET BELONGINGS</td>\n",
       "      <td>P172331037</td>\n",
       "      <td>2900 GLENMORE AV</td>\n",
       "      <td>(39.3571560,-76.5608350)</td>\n",
       "    </tr>\n",
       "    <tr>\n",
       "      <th>2799911</th>\n",
       "      <td>2017-08-21 11:46:00</td>\n",
       "      <td>Medium</td>\n",
       "      <td>CD</td>\n",
       "      <td>JUV DISTURBANCE</td>\n",
       "      <td>P172331039</td>\n",
       "      <td>1000 W NORTH AV</td>\n",
       "      <td>(39.3104606,-76.6347099)</td>\n",
       "    </tr>\n",
       "    <tr>\n",
       "      <th>2799912</th>\n",
       "      <td>2017-08-21 11:45:00</td>\n",
       "      <td>Medium</td>\n",
       "      <td>ED</td>\n",
       "      <td>COMMON ASSAULT</td>\n",
       "      <td>P172331041</td>\n",
       "      <td>1500 E BIDDLE ST</td>\n",
       "      <td>(39.3041617,-76.5979135)</td>\n",
       "    </tr>\n",
       "    <tr>\n",
       "      <th>2799913</th>\n",
       "      <td>2017-08-21 11:49:00</td>\n",
       "      <td>Medium</td>\n",
       "      <td>WD</td>\n",
       "      <td>DISORDERLY</td>\n",
       "      <td>P172331043</td>\n",
       "      <td>2700 W FRANKLIN ST</td>\n",
       "      <td>(39.2934320,-76.6614790)</td>\n",
       "    </tr>\n",
       "  </tbody>\n",
       "</table>\n",
       "</div>"
      ],
      "text/plain": [
       "                callDateTime priority district      description  callNumber  \\\n",
       "2799909  2017-08-21 11:44:00   Medium       NW         BURGLARY  P172331036   \n",
       "2799910  2017-08-21 11:44:00      Low       NE   GET BELONGINGS  P172331037   \n",
       "2799911  2017-08-21 11:46:00   Medium       CD  JUV DISTURBANCE  P172331039   \n",
       "2799912  2017-08-21 11:45:00   Medium       ED   COMMON ASSAULT  P172331041   \n",
       "2799913  2017-08-21 11:49:00   Medium       WD       DISORDERLY  P172331043   \n",
       "\n",
       "           incidentLocation                  location  \n",
       "2799909      2900 VIOLET AV  (39.3297550,-76.6624990)  \n",
       "2799910    2900 GLENMORE AV  (39.3571560,-76.5608350)  \n",
       "2799911     1000 W NORTH AV  (39.3104606,-76.6347099)  \n",
       "2799912    1500 E BIDDLE ST  (39.3041617,-76.5979135)  \n",
       "2799913  2700 W FRANKLIN ST  (39.2934320,-76.6614790)  "
      ]
     },
     "execution_count": 10,
     "metadata": {},
     "output_type": "execute_result"
    }
   ],
   "source": [
    "calls.tail()"
   ]
  },
  {
   "cell_type": "code",
   "execution_count": 11,
   "metadata": {},
   "outputs": [
    {
     "data": {
      "text/plain": [
       "callDateTime        82532\n",
       "priority            82532\n",
       "district            82532\n",
       "description         82532\n",
       "callNumber          82532\n",
       "incidentLocation    82532\n",
       "location            82532\n",
       "dtype: int64"
      ]
     },
     "execution_count": 11,
     "metadata": {},
     "output_type": "execute_result"
    }
   ],
   "source": [
    "calls.loc[(calls.location=='(,)') | (calls.location=='(')].count()"
   ]
  },
  {
   "cell_type": "code",
   "execution_count": 12,
   "metadata": {},
   "outputs": [
    {
     "data": {
      "text/plain": [
       "callDateTime        82532\n",
       "priority            82532\n",
       "district            82532\n",
       "description         82532\n",
       "callNumber          82532\n",
       "incidentLocation    82532\n",
       "location            73948\n",
       "dtype: int64"
      ]
     },
     "execution_count": 12,
     "metadata": {},
     "output_type": "execute_result"
    }
   ],
   "source": [
    "data.count()"
   ]
  },
  {
   "cell_type": "code",
   "execution_count": 13,
   "metadata": {
    "collapsed": true
   },
   "outputs": [],
   "source": [
    "calls.set_index('callNumber',inplace=True)"
   ]
  },
  {
   "cell_type": "code",
   "execution_count": 14,
   "metadata": {},
   "outputs": [
    {
     "data": {
      "text/plain": [
       "True"
      ]
     },
     "execution_count": 14,
     "metadata": {},
     "output_type": "execute_result"
    }
   ],
   "source": [
    "calls.index.is_unique"
   ]
  },
  {
   "cell_type": "code",
   "execution_count": 15,
   "metadata": {
    "collapsed": true
   },
   "outputs": [],
   "source": [
    "data.set_index('callNumber',inplace=True)"
   ]
  },
  {
   "cell_type": "code",
   "execution_count": 16,
   "metadata": {
    "scrolled": true
   },
   "outputs": [
    {
     "data": {
      "text/plain": [
       "True"
      ]
     },
     "execution_count": 16,
     "metadata": {},
     "output_type": "execute_result"
    }
   ],
   "source": [
    "data.index.is_unique"
   ]
  },
  {
   "cell_type": "code",
   "execution_count": 17,
   "metadata": {
    "collapsed": true
   },
   "outputs": [],
   "source": [
    "mask = (calls.location=='(,)') | (calls.location=='(')"
   ]
  },
  {
   "cell_type": "code",
   "execution_count": 18,
   "metadata": {},
   "outputs": [
    {
     "data": {
      "text/plain": [
       "82532"
      ]
     },
     "execution_count": 18,
     "metadata": {},
     "output_type": "execute_result"
    }
   ],
   "source": [
    "calls.loc[mask,'location'].count()"
   ]
  },
  {
   "cell_type": "code",
   "execution_count": 19,
   "metadata": {},
   "outputs": [
    {
     "data": {
      "text/plain": [
       "82532"
      ]
     },
     "execution_count": 19,
     "metadata": {},
     "output_type": "execute_result"
    }
   ],
   "source": [
    "data.location.size"
   ]
  },
  {
   "cell_type": "code",
   "execution_count": 20,
   "metadata": {},
   "outputs": [
    {
     "data": {
      "text/plain": [
       "False    73948\n",
       "True      8584\n",
       "Name: location, dtype: int64"
      ]
     },
     "execution_count": 20,
     "metadata": {},
     "output_type": "execute_result"
    }
   ],
   "source": [
    "data.location.isnull().value_counts()"
   ]
  },
  {
   "cell_type": "code",
   "execution_count": 21,
   "metadata": {
    "collapsed": true
   },
   "outputs": [],
   "source": [
    "calls.loc[mask,'location'] = data.location.values"
   ]
  },
  {
   "cell_type": "code",
   "execution_count": 22,
   "metadata": {},
   "outputs": [
    {
     "data": {
      "text/plain": [
       "False    2791330\n",
       "True        8584\n",
       "Name: location, dtype: int64"
      ]
     },
     "execution_count": 22,
     "metadata": {},
     "output_type": "execute_result"
    }
   ],
   "source": [
    "calls.location.isnull().value_counts()"
   ]
  },
  {
   "cell_type": "code",
   "execution_count": 23,
   "metadata": {
    "collapsed": true
   },
   "outputs": [],
   "source": [
    "calls.reset_index(inplace=True)"
   ]
  },
  {
   "cell_type": "code",
   "execution_count": 24,
   "metadata": {},
   "outputs": [
    {
     "data": {
      "text/html": [
       "<div>\n",
       "<style>\n",
       "    .dataframe thead tr:only-child th {\n",
       "        text-align: right;\n",
       "    }\n",
       "\n",
       "    .dataframe thead th {\n",
       "        text-align: left;\n",
       "    }\n",
       "\n",
       "    .dataframe tbody tr th {\n",
       "        vertical-align: top;\n",
       "    }\n",
       "</style>\n",
       "<table border=\"1\" class=\"dataframe\">\n",
       "  <thead>\n",
       "    <tr style=\"text-align: right;\">\n",
       "      <th></th>\n",
       "      <th>callNumber</th>\n",
       "      <th>callDateTime</th>\n",
       "      <th>priority</th>\n",
       "      <th>district</th>\n",
       "      <th>description</th>\n",
       "      <th>incidentLocation</th>\n",
       "      <th>location</th>\n",
       "    </tr>\n",
       "  </thead>\n",
       "  <tbody>\n",
       "    <tr>\n",
       "      <th>2799909</th>\n",
       "      <td>P172331036</td>\n",
       "      <td>2017-08-21 11:44:00</td>\n",
       "      <td>Medium</td>\n",
       "      <td>NW</td>\n",
       "      <td>BURGLARY</td>\n",
       "      <td>2900 VIOLET AV</td>\n",
       "      <td>(39.3297550,-76.6624990)</td>\n",
       "    </tr>\n",
       "    <tr>\n",
       "      <th>2799910</th>\n",
       "      <td>P172331037</td>\n",
       "      <td>2017-08-21 11:44:00</td>\n",
       "      <td>Low</td>\n",
       "      <td>NE</td>\n",
       "      <td>GET BELONGINGS</td>\n",
       "      <td>2900 GLENMORE AV</td>\n",
       "      <td>(39.3571560,-76.5608350)</td>\n",
       "    </tr>\n",
       "    <tr>\n",
       "      <th>2799911</th>\n",
       "      <td>P172331039</td>\n",
       "      <td>2017-08-21 11:46:00</td>\n",
       "      <td>Medium</td>\n",
       "      <td>CD</td>\n",
       "      <td>JUV DISTURBANCE</td>\n",
       "      <td>1000 W NORTH AV</td>\n",
       "      <td>(39.3104606,-76.6347099)</td>\n",
       "    </tr>\n",
       "    <tr>\n",
       "      <th>2799912</th>\n",
       "      <td>P172331041</td>\n",
       "      <td>2017-08-21 11:45:00</td>\n",
       "      <td>Medium</td>\n",
       "      <td>ED</td>\n",
       "      <td>COMMON ASSAULT</td>\n",
       "      <td>1500 E BIDDLE ST</td>\n",
       "      <td>(39.3041617,-76.5979135)</td>\n",
       "    </tr>\n",
       "    <tr>\n",
       "      <th>2799913</th>\n",
       "      <td>P172331043</td>\n",
       "      <td>2017-08-21 11:49:00</td>\n",
       "      <td>Medium</td>\n",
       "      <td>WD</td>\n",
       "      <td>DISORDERLY</td>\n",
       "      <td>2700 W FRANKLIN ST</td>\n",
       "      <td>(39.2934320,-76.6614790)</td>\n",
       "    </tr>\n",
       "  </tbody>\n",
       "</table>\n",
       "</div>"
      ],
      "text/plain": [
       "         callNumber         callDateTime priority district      description  \\\n",
       "2799909  P172331036  2017-08-21 11:44:00   Medium       NW         BURGLARY   \n",
       "2799910  P172331037  2017-08-21 11:44:00      Low       NE   GET BELONGINGS   \n",
       "2799911  P172331039  2017-08-21 11:46:00   Medium       CD  JUV DISTURBANCE   \n",
       "2799912  P172331041  2017-08-21 11:45:00   Medium       ED   COMMON ASSAULT   \n",
       "2799913  P172331043  2017-08-21 11:49:00   Medium       WD       DISORDERLY   \n",
       "\n",
       "           incidentLocation                  location  \n",
       "2799909      2900 VIOLET AV  (39.3297550,-76.6624990)  \n",
       "2799910    2900 GLENMORE AV  (39.3571560,-76.5608350)  \n",
       "2799911     1000 W NORTH AV  (39.3104606,-76.6347099)  \n",
       "2799912    1500 E BIDDLE ST  (39.3041617,-76.5979135)  \n",
       "2799913  2700 W FRANKLIN ST  (39.2934320,-76.6614790)  "
      ]
     },
     "execution_count": 24,
     "metadata": {},
     "output_type": "execute_result"
    }
   ],
   "source": [
    "calls.tail()"
   ]
  },
  {
   "cell_type": "code",
   "execution_count": 25,
   "metadata": {
    "collapsed": true
   },
   "outputs": [],
   "source": [
    "calls.to_csv('../911_calls_for_service_coordinates.csv')"
   ]
  },
  {
   "cell_type": "code",
   "execution_count": 26,
   "metadata": {
    "collapsed": true
   },
   "outputs": [],
   "source": [
    "calls = pd.read_csv('../911_calls_for_service_coordinates.csv')"
   ]
  },
  {
   "cell_type": "code",
   "execution_count": 27,
   "metadata": {},
   "outputs": [
    {
     "data": {
      "text/html": [
       "<div>\n",
       "<style>\n",
       "    .dataframe thead tr:only-child th {\n",
       "        text-align: right;\n",
       "    }\n",
       "\n",
       "    .dataframe thead th {\n",
       "        text-align: left;\n",
       "    }\n",
       "\n",
       "    .dataframe tbody tr th {\n",
       "        vertical-align: top;\n",
       "    }\n",
       "</style>\n",
       "<table border=\"1\" class=\"dataframe\">\n",
       "  <thead>\n",
       "    <tr style=\"text-align: right;\">\n",
       "      <th></th>\n",
       "      <th>Unnamed: 0</th>\n",
       "      <th>callNumber</th>\n",
       "      <th>callDateTime</th>\n",
       "      <th>priority</th>\n",
       "      <th>district</th>\n",
       "      <th>description</th>\n",
       "      <th>incidentLocation</th>\n",
       "      <th>location</th>\n",
       "    </tr>\n",
       "  </thead>\n",
       "  <tbody>\n",
       "    <tr>\n",
       "      <th>0</th>\n",
       "      <td>0</td>\n",
       "      <td>P151941002</td>\n",
       "      <td>2015-07-13 10:41:00</td>\n",
       "      <td>Medium</td>\n",
       "      <td>CD</td>\n",
       "      <td>SEE TEXT</td>\n",
       "      <td>0 N CALVERT ST</td>\n",
       "      <td>(39.2899299,-76.6123462)</td>\n",
       "    </tr>\n",
       "    <tr>\n",
       "      <th>1</th>\n",
       "      <td>1</td>\n",
       "      <td>P151941003</td>\n",
       "      <td>2015-07-13 10:47:00</td>\n",
       "      <td>Medium</td>\n",
       "      <td>CD</td>\n",
       "      <td>911/NO  VOICE</td>\n",
       "      <td>600 E FAYETTE ST</td>\n",
       "      <td>(39.2906737,-76.6071600)</td>\n",
       "    </tr>\n",
       "    <tr>\n",
       "      <th>2</th>\n",
       "      <td>2</td>\n",
       "      <td>P151941004</td>\n",
       "      <td>2015-07-13 10:42:00</td>\n",
       "      <td>Medium</td>\n",
       "      <td>CD</td>\n",
       "      <td>911/NO  VOICE</td>\n",
       "      <td>200 E BALTIMORE ST</td>\n",
       "      <td>(39.2898910,-76.6120720)</td>\n",
       "    </tr>\n",
       "    <tr>\n",
       "      <th>3</th>\n",
       "      <td>3</td>\n",
       "      <td>P151941005</td>\n",
       "      <td>2015-07-13 10:45:00</td>\n",
       "      <td>Low</td>\n",
       "      <td>CD</td>\n",
       "      <td>PRKG COMPLAINT</td>\n",
       "      <td>800 PARK AV</td>\n",
       "      <td>(39.2985163,-76.6184754)</td>\n",
       "    </tr>\n",
       "    <tr>\n",
       "      <th>4</th>\n",
       "      <td>4</td>\n",
       "      <td>P151941006</td>\n",
       "      <td>2015-07-13 10:46:00</td>\n",
       "      <td>Medium</td>\n",
       "      <td>SW</td>\n",
       "      <td>AUTO THEFT</td>\n",
       "      <td>3500 CLIFTON AV</td>\n",
       "      <td>(39.3112130,-76.6763150)</td>\n",
       "    </tr>\n",
       "  </tbody>\n",
       "</table>\n",
       "</div>"
      ],
      "text/plain": [
       "   Unnamed: 0  callNumber         callDateTime priority district  \\\n",
       "0           0  P151941002  2015-07-13 10:41:00   Medium       CD   \n",
       "1           1  P151941003  2015-07-13 10:47:00   Medium       CD   \n",
       "2           2  P151941004  2015-07-13 10:42:00   Medium       CD   \n",
       "3           3  P151941005  2015-07-13 10:45:00      Low       CD   \n",
       "4           4  P151941006  2015-07-13 10:46:00   Medium       SW   \n",
       "\n",
       "      description    incidentLocation                  location  \n",
       "0        SEE TEXT      0 N CALVERT ST  (39.2899299,-76.6123462)  \n",
       "1   911/NO  VOICE    600 E FAYETTE ST  (39.2906737,-76.6071600)  \n",
       "2   911/NO  VOICE  200 E BALTIMORE ST  (39.2898910,-76.6120720)  \n",
       "3  PRKG COMPLAINT         800 PARK AV  (39.2985163,-76.6184754)  \n",
       "4      AUTO THEFT     3500 CLIFTON AV  (39.3112130,-76.6763150)  "
      ]
     },
     "execution_count": 27,
     "metadata": {},
     "output_type": "execute_result"
    }
   ],
   "source": [
    "calls.head()"
   ]
  }
 ],
 "metadata": {
  "kernelspec": {
   "display_name": "Python 3",
   "language": "python",
   "name": "python3"
  },
  "language_info": {
   "codemirror_mode": {
    "name": "ipython",
    "version": 3
   },
   "file_extension": ".py",
   "mimetype": "text/x-python",
   "name": "python",
   "nbconvert_exporter": "python",
   "pygments_lexer": "ipython3",
   "version": "3.6.2"
  }
 },
 "nbformat": 4,
 "nbformat_minor": 2
}

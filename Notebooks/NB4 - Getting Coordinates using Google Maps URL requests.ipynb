{
 "cells": [
  {
   "cell_type": "code",
   "execution_count": 20,
   "metadata": {
    "collapsed": true
   },
   "outputs": [],
   "source": [
    "import pandas as pd\n",
    "import matplotlib.pyplot as plt\n",
    "import numpy as np\n",
    "import urllib\n",
    "#import time\n",
    "#from pygeocoder import Geocoder\n",
    "\n",
    "%matplotlib inline"
   ]
  },
  {
   "cell_type": "code",
   "execution_count": 21,
   "metadata": {
    "collapsed": true
   },
   "outputs": [],
   "source": [
    "#calls = pd.read_csv('../Project/Data/911_calls_for_service.csv',index_col='callDateTime',parse_dates=True)\n",
    "calls = pd.read_csv('../Project/Data/911_calls_for_service.csv')\n",
    "#calls = calls_full.head(n=10)"
   ]
  },
  {
   "cell_type": "code",
   "execution_count": 22,
   "metadata": {
    "collapsed": true
   },
   "outputs": [],
   "source": [
    "calls=calls.drop('Unnamed: 0',axis=1)"
   ]
  },
  {
   "cell_type": "code",
   "execution_count": 23,
   "metadata": {},
   "outputs": [
    {
     "data": {
      "text/plain": [
       "pandas.core.indexes.range.RangeIndex"
      ]
     },
     "execution_count": 23,
     "metadata": {},
     "output_type": "execute_result"
    }
   ],
   "source": [
    "type(calls.index)"
   ]
  },
  {
   "cell_type": "code",
   "execution_count": 24,
   "metadata": {},
   "outputs": [
    {
     "data": {
      "text/html": [
       "<div>\n",
       "<style>\n",
       "    .dataframe thead tr:only-child th {\n",
       "        text-align: right;\n",
       "    }\n",
       "\n",
       "    .dataframe thead th {\n",
       "        text-align: left;\n",
       "    }\n",
       "\n",
       "    .dataframe tbody tr th {\n",
       "        vertical-align: top;\n",
       "    }\n",
       "</style>\n",
       "<table border=\"1\" class=\"dataframe\">\n",
       "  <thead>\n",
       "    <tr style=\"text-align: right;\">\n",
       "      <th></th>\n",
       "      <th>callDateTime</th>\n",
       "      <th>priority</th>\n",
       "      <th>district</th>\n",
       "      <th>description</th>\n",
       "      <th>callNumber</th>\n",
       "      <th>incidentLocation</th>\n",
       "      <th>location</th>\n",
       "    </tr>\n",
       "  </thead>\n",
       "  <tbody>\n",
       "    <tr>\n",
       "      <th>0</th>\n",
       "      <td>2015-07-13 10:41:00</td>\n",
       "      <td>Medium</td>\n",
       "      <td>CD</td>\n",
       "      <td>SEE TEXT</td>\n",
       "      <td>P151941002</td>\n",
       "      <td>0 N CALVERT ST</td>\n",
       "      <td>(39.2899299,-76.6123462)</td>\n",
       "    </tr>\n",
       "    <tr>\n",
       "      <th>1</th>\n",
       "      <td>2015-07-13 10:47:00</td>\n",
       "      <td>Medium</td>\n",
       "      <td>CD</td>\n",
       "      <td>911/NO  VOICE</td>\n",
       "      <td>P151941003</td>\n",
       "      <td>600 E FAYETTE ST</td>\n",
       "      <td>(39.2906737,-76.6071600)</td>\n",
       "    </tr>\n",
       "    <tr>\n",
       "      <th>2</th>\n",
       "      <td>2015-07-13 10:42:00</td>\n",
       "      <td>Medium</td>\n",
       "      <td>CD</td>\n",
       "      <td>911/NO  VOICE</td>\n",
       "      <td>P151941004</td>\n",
       "      <td>200 E BALTIMORE ST</td>\n",
       "      <td>(39.2898910,-76.6120720)</td>\n",
       "    </tr>\n",
       "    <tr>\n",
       "      <th>3</th>\n",
       "      <td>2015-07-13 10:45:00</td>\n",
       "      <td>Low</td>\n",
       "      <td>CD</td>\n",
       "      <td>PRKG COMPLAINT</td>\n",
       "      <td>P151941005</td>\n",
       "      <td>800 PARK AV</td>\n",
       "      <td>(39.2985163,-76.6184754)</td>\n",
       "    </tr>\n",
       "    <tr>\n",
       "      <th>4</th>\n",
       "      <td>2015-07-13 10:46:00</td>\n",
       "      <td>Medium</td>\n",
       "      <td>SW</td>\n",
       "      <td>AUTO THEFT</td>\n",
       "      <td>P151941006</td>\n",
       "      <td>3500 CLIFTON AV</td>\n",
       "      <td>(39.3112130,-76.6763150)</td>\n",
       "    </tr>\n",
       "  </tbody>\n",
       "</table>\n",
       "</div>"
      ],
      "text/plain": [
       "          callDateTime priority district     description  callNumber  \\\n",
       "0  2015-07-13 10:41:00   Medium       CD        SEE TEXT  P151941002   \n",
       "1  2015-07-13 10:47:00   Medium       CD   911/NO  VOICE  P151941003   \n",
       "2  2015-07-13 10:42:00   Medium       CD   911/NO  VOICE  P151941004   \n",
       "3  2015-07-13 10:45:00      Low       CD  PRKG COMPLAINT  P151941005   \n",
       "4  2015-07-13 10:46:00   Medium       SW      AUTO THEFT  P151941006   \n",
       "\n",
       "     incidentLocation                  location  \n",
       "0      0 N CALVERT ST  (39.2899299,-76.6123462)  \n",
       "1    600 E FAYETTE ST  (39.2906737,-76.6071600)  \n",
       "2  200 E BALTIMORE ST  (39.2898910,-76.6120720)  \n",
       "3         800 PARK AV  (39.2985163,-76.6184754)  \n",
       "4     3500 CLIFTON AV  (39.3112130,-76.6763150)  "
      ]
     },
     "execution_count": 24,
     "metadata": {},
     "output_type": "execute_result"
    }
   ],
   "source": [
    "calls.head()"
   ]
  },
  {
   "cell_type": "code",
   "execution_count": 25,
   "metadata": {},
   "outputs": [
    {
     "data": {
      "text/plain": [
       "False    2793259\n",
       "True        6655\n",
       "Name: priority, dtype: int64"
      ]
     },
     "execution_count": 25,
     "metadata": {},
     "output_type": "execute_result"
    }
   ],
   "source": [
    "calls.priority.isnull().value_counts()"
   ]
  },
  {
   "cell_type": "code",
   "execution_count": 26,
   "metadata": {},
   "outputs": [
    {
     "data": {
      "text/plain": [
       "1    2799914\n",
       "Name: callNumber, dtype: int64"
      ]
     },
     "execution_count": 26,
     "metadata": {},
     "output_type": "execute_result"
    }
   ],
   "source": [
    "# Can't analyze repeated calls due to masked numbers.\n",
    "calls.groupby('callNumber')['callNumber'].count().value_counts()"
   ]
  },
  {
   "cell_type": "code",
   "execution_count": 27,
   "metadata": {
    "collapsed": true
   },
   "outputs": [],
   "source": [
    "def set_lat(x):\n",
    "    try:\n",
    "        return float(x.split(',')[0][1:])\n",
    "    except:\n",
    "        return np.nan\n",
    "    \n",
    "def set_lon(x):\n",
    "    try:\n",
    "        return float(x.split(',')[1][:-1])\n",
    "    except:\n",
    "        return np.nan"
   ]
  },
  {
   "cell_type": "code",
   "execution_count": 28,
   "metadata": {
    "collapsed": true
   },
   "outputs": [],
   "source": [
    "calls['lat'] = calls['location'].apply(set_lat)"
   ]
  },
  {
   "cell_type": "code",
   "execution_count": 29,
   "metadata": {
    "collapsed": true
   },
   "outputs": [],
   "source": [
    "calls['lon'] = calls['location'].apply(set_lon)"
   ]
  },
  {
   "cell_type": "code",
   "execution_count": 30,
   "metadata": {},
   "outputs": [
    {
     "data": {
      "text/plain": [
       "callDateTime        82532\n",
       "priority            82532\n",
       "district            82532\n",
       "description         82532\n",
       "callNumber          82532\n",
       "incidentLocation    82532\n",
       "location            82532\n",
       "lat                     0\n",
       "lon                     0\n",
       "dtype: int64"
      ]
     },
     "execution_count": 30,
     "metadata": {},
     "output_type": "execute_result"
    }
   ],
   "source": [
    "calls[calls.lat.isnull()==True].count()"
   ]
  },
  {
   "cell_type": "code",
   "execution_count": 31,
   "metadata": {},
   "outputs": [
    {
     "data": {
      "text/plain": [
       "(,)    82531\n",
       "(          1\n",
       "Name: location, dtype: int64"
      ]
     },
     "execution_count": 31,
     "metadata": {},
     "output_type": "execute_result"
    }
   ],
   "source": [
    "calls.loc[calls.lat.isnull()==True,'location'].value_counts()"
   ]
  },
  {
   "cell_type": "code",
   "execution_count": 16,
   "metadata": {
    "collapsed": true
   },
   "outputs": [],
   "source": [
    "calls.location = calls.location.replace(to_replace='(,)',value=np.nan)"
   ]
  },
  {
   "cell_type": "code",
   "execution_count": 28,
   "metadata": {
    "collapsed": true
   },
   "outputs": [],
   "source": [
    "#calls.loc[calls.lat.isnull(),'location'] = calls.loc[calls.lat.isnull(),'incidentLocation']"
   ]
  },
  {
   "cell_type": "code",
   "execution_count": 17,
   "metadata": {
    "scrolled": true
   },
   "outputs": [
    {
     "data": {
      "text/plain": [
       "82532"
      ]
     },
     "execution_count": 17,
     "metadata": {},
     "output_type": "execute_result"
    }
   ],
   "source": [
    "calls.loc[calls.lat.isnull()==True,'location'].size"
   ]
  },
  {
   "cell_type": "code",
   "execution_count": 18,
   "metadata": {},
   "outputs": [
    {
     "data": {
      "text/html": [
       "<div>\n",
       "<style>\n",
       "    .dataframe thead tr:only-child th {\n",
       "        text-align: right;\n",
       "    }\n",
       "\n",
       "    .dataframe thead th {\n",
       "        text-align: left;\n",
       "    }\n",
       "\n",
       "    .dataframe tbody tr th {\n",
       "        vertical-align: top;\n",
       "    }\n",
       "</style>\n",
       "<table border=\"1\" class=\"dataframe\">\n",
       "  <thead>\n",
       "    <tr style=\"text-align: right;\">\n",
       "      <th></th>\n",
       "      <th>callDateTime</th>\n",
       "      <th>priority</th>\n",
       "      <th>district</th>\n",
       "      <th>description</th>\n",
       "      <th>callNumber</th>\n",
       "      <th>incidentLocation</th>\n",
       "      <th>location</th>\n",
       "      <th>lat</th>\n",
       "      <th>lon</th>\n",
       "    </tr>\n",
       "  </thead>\n",
       "  <tbody>\n",
       "  </tbody>\n",
       "</table>\n",
       "</div>"
      ],
      "text/plain": [
       "Empty DataFrame\n",
       "Columns: [callDateTime, priority, district, description, callNumber, incidentLocation, location, lat, lon]\n",
       "Index: []"
      ]
     },
     "execution_count": 18,
     "metadata": {},
     "output_type": "execute_result"
    }
   ],
   "source": [
    "calls[(calls.lat.isnull()==True) & (calls.incidentLocation.isnull()==True)]"
   ]
  },
  {
   "cell_type": "code",
   "execution_count": 31,
   "metadata": {
    "collapsed": true
   },
   "outputs": [],
   "source": [
    "def get_coordinates(addr):\n",
    "    #addr = '500 N MARTIN LUTHER KING JR BL '\n",
    "\n",
    "    url = 'https://www.google.ca/maps/place/' + addr.strip().replace(' ','+') + ',+Baltimore'\n",
    "\n",
    "    response = urllib.request.urlopen(url)\n",
    "\n",
    "    for x in range(10):\n",
    "            response.readline()\n",
    "    data = str(response.readline()).split('],[')[0]\n",
    "    lat, lon = data.split(',')[1:]\n",
    "    return '('+lon+','+lat+')'"
   ]
  },
  {
   "cell_type": "code",
   "execution_count": null,
   "metadata": {
    "collapsed": true,
    "scrolled": false
   },
   "outputs": [],
   "source": [
    "%%time\n",
    "addr = '500 N MARTIN LUTHER KING JR BL '\n",
    "get_coordinates(addr)"
   ]
  },
  {
   "cell_type": "code",
   "execution_count": 32,
   "metadata": {},
   "outputs": [
    {
     "data": {
      "text/html": [
       "<div>\n",
       "<style>\n",
       "    .dataframe thead tr:only-child th {\n",
       "        text-align: right;\n",
       "    }\n",
       "\n",
       "    .dataframe thead th {\n",
       "        text-align: left;\n",
       "    }\n",
       "\n",
       "    .dataframe tbody tr th {\n",
       "        vertical-align: top;\n",
       "    }\n",
       "</style>\n",
       "<table border=\"1\" class=\"dataframe\">\n",
       "  <thead>\n",
       "    <tr style=\"text-align: right;\">\n",
       "      <th></th>\n",
       "      <th>callDateTime</th>\n",
       "      <th>priority</th>\n",
       "      <th>district</th>\n",
       "      <th>description</th>\n",
       "      <th>callNumber</th>\n",
       "      <th>incidentLocation</th>\n",
       "      <th>location</th>\n",
       "      <th>lat</th>\n",
       "      <th>lon</th>\n",
       "    </tr>\n",
       "  </thead>\n",
       "  <tbody>\n",
       "    <tr>\n",
       "      <th>462</th>\n",
       "      <td>2015-07-13 13:07:00</td>\n",
       "      <td>Non-Emergency</td>\n",
       "      <td>SD</td>\n",
       "      <td>Repairs/Service</td>\n",
       "      <td>P151941437</td>\n",
       "      <td>ASCIATE</td>\n",
       "      <td>NaN</td>\n",
       "      <td>NaN</td>\n",
       "      <td>NaN</td>\n",
       "    </tr>\n",
       "    <tr>\n",
       "      <th>538</th>\n",
       "      <td>2015-07-13 13:34:00</td>\n",
       "      <td>Non-Emergency</td>\n",
       "      <td>CD</td>\n",
       "      <td>Foot  Patrol</td>\n",
       "      <td>P151941534</td>\n",
       "      <td>1500-1700BLK PENNS</td>\n",
       "      <td>NaN</td>\n",
       "      <td>NaN</td>\n",
       "      <td>NaN</td>\n",
       "    </tr>\n",
       "    <tr>\n",
       "      <th>539</th>\n",
       "      <td>2015-07-13 13:34:00</td>\n",
       "      <td>Non-Emergency</td>\n",
       "      <td>CD</td>\n",
       "      <td>Foot  Patrol</td>\n",
       "      <td>P151941535</td>\n",
       "      <td>1500-1700BLK PENNS</td>\n",
       "      <td>NaN</td>\n",
       "      <td>NaN</td>\n",
       "      <td>NaN</td>\n",
       "    </tr>\n",
       "    <tr>\n",
       "      <th>751</th>\n",
       "      <td>2015-07-13 14:45:00</td>\n",
       "      <td>Non-Emergency</td>\n",
       "      <td>NW</td>\n",
       "      <td>Repairs/Service</td>\n",
       "      <td>P151941776</td>\n",
       "      <td>LEWIN SUB</td>\n",
       "      <td>NaN</td>\n",
       "      <td>NaN</td>\n",
       "      <td>NaN</td>\n",
       "    </tr>\n",
       "    <tr>\n",
       "      <th>1204</th>\n",
       "      <td>2015-07-13 17:20:00</td>\n",
       "      <td>High</td>\n",
       "      <td>SD</td>\n",
       "      <td>Field Interview</td>\n",
       "      <td>P151942362</td>\n",
       "      <td>3100 POTEE ST</td>\n",
       "      <td>NaN</td>\n",
       "      <td>NaN</td>\n",
       "      <td>NaN</td>\n",
       "    </tr>\n",
       "  </tbody>\n",
       "</table>\n",
       "</div>"
      ],
      "text/plain": [
       "             callDateTime       priority district      description  \\\n",
       "462   2015-07-13 13:07:00  Non-Emergency       SD  Repairs/Service   \n",
       "538   2015-07-13 13:34:00  Non-Emergency       CD     Foot  Patrol   \n",
       "539   2015-07-13 13:34:00  Non-Emergency       CD     Foot  Patrol   \n",
       "751   2015-07-13 14:45:00  Non-Emergency       NW  Repairs/Service   \n",
       "1204  2015-07-13 17:20:00           High       SD  Field Interview   \n",
       "\n",
       "      callNumber    incidentLocation location  lat  lon  \n",
       "462   P151941437             ASCIATE      NaN  NaN  NaN  \n",
       "538   P151941534  1500-1700BLK PENNS      NaN  NaN  NaN  \n",
       "539   P151941535  1500-1700BLK PENNS      NaN  NaN  NaN  \n",
       "751   P151941776           LEWIN SUB      NaN  NaN  NaN  \n",
       "1204  P151942362       3100 POTEE ST      NaN  NaN  NaN  "
      ]
     },
     "execution_count": 32,
     "metadata": {},
     "output_type": "execute_result"
    }
   ],
   "source": [
    "calls.loc[calls.lon.isnull()==True].head()"
   ]
  },
  {
   "cell_type": "code",
   "execution_count": 19,
   "metadata": {},
   "outputs": [
    {
     "data": {
      "text/html": [
       "<div>\n",
       "<style>\n",
       "    .dataframe thead tr:only-child th {\n",
       "        text-align: right;\n",
       "    }\n",
       "\n",
       "    .dataframe thead th {\n",
       "        text-align: left;\n",
       "    }\n",
       "\n",
       "    .dataframe tbody tr th {\n",
       "        vertical-align: top;\n",
       "    }\n",
       "</style>\n",
       "<table border=\"1\" class=\"dataframe\">\n",
       "  <thead>\n",
       "    <tr style=\"text-align: right;\">\n",
       "      <th></th>\n",
       "      <th>callDateTime</th>\n",
       "      <th>priority</th>\n",
       "      <th>district</th>\n",
       "      <th>description</th>\n",
       "      <th>callNumber</th>\n",
       "      <th>incidentLocation</th>\n",
       "      <th>location</th>\n",
       "      <th>lat</th>\n",
       "      <th>lon</th>\n",
       "    </tr>\n",
       "  </thead>\n",
       "  <tbody>\n",
       "    <tr>\n",
       "      <th>0</th>\n",
       "      <td>2015-07-13 10:41:00</td>\n",
       "      <td>Medium</td>\n",
       "      <td>CD</td>\n",
       "      <td>SEE TEXT</td>\n",
       "      <td>P151941002</td>\n",
       "      <td>0 N CALVERT ST</td>\n",
       "      <td>(39.2899299,-76.6123462)</td>\n",
       "      <td>39.289930</td>\n",
       "      <td>-76.612346</td>\n",
       "    </tr>\n",
       "    <tr>\n",
       "      <th>1</th>\n",
       "      <td>2015-07-13 10:47:00</td>\n",
       "      <td>Medium</td>\n",
       "      <td>CD</td>\n",
       "      <td>911/NO  VOICE</td>\n",
       "      <td>P151941003</td>\n",
       "      <td>600 E FAYETTE ST</td>\n",
       "      <td>(39.2906737,-76.6071600)</td>\n",
       "      <td>39.290674</td>\n",
       "      <td>-76.607160</td>\n",
       "    </tr>\n",
       "    <tr>\n",
       "      <th>2</th>\n",
       "      <td>2015-07-13 10:42:00</td>\n",
       "      <td>Medium</td>\n",
       "      <td>CD</td>\n",
       "      <td>911/NO  VOICE</td>\n",
       "      <td>P151941004</td>\n",
       "      <td>200 E BALTIMORE ST</td>\n",
       "      <td>(39.2898910,-76.6120720)</td>\n",
       "      <td>39.289891</td>\n",
       "      <td>-76.612072</td>\n",
       "    </tr>\n",
       "    <tr>\n",
       "      <th>3</th>\n",
       "      <td>2015-07-13 10:45:00</td>\n",
       "      <td>Low</td>\n",
       "      <td>CD</td>\n",
       "      <td>PRKG COMPLAINT</td>\n",
       "      <td>P151941005</td>\n",
       "      <td>800 PARK AV</td>\n",
       "      <td>(39.2985163,-76.6184754)</td>\n",
       "      <td>39.298516</td>\n",
       "      <td>-76.618475</td>\n",
       "    </tr>\n",
       "    <tr>\n",
       "      <th>4</th>\n",
       "      <td>2015-07-13 10:46:00</td>\n",
       "      <td>Medium</td>\n",
       "      <td>SW</td>\n",
       "      <td>AUTO THEFT</td>\n",
       "      <td>P151941006</td>\n",
       "      <td>3500 CLIFTON AV</td>\n",
       "      <td>(39.3112130,-76.6763150)</td>\n",
       "      <td>39.311213</td>\n",
       "      <td>-76.676315</td>\n",
       "    </tr>\n",
       "  </tbody>\n",
       "</table>\n",
       "</div>"
      ],
      "text/plain": [
       "          callDateTime priority district     description  callNumber  \\\n",
       "0  2015-07-13 10:41:00   Medium       CD        SEE TEXT  P151941002   \n",
       "1  2015-07-13 10:47:00   Medium       CD   911/NO  VOICE  P151941003   \n",
       "2  2015-07-13 10:42:00   Medium       CD   911/NO  VOICE  P151941004   \n",
       "3  2015-07-13 10:45:00      Low       CD  PRKG COMPLAINT  P151941005   \n",
       "4  2015-07-13 10:46:00   Medium       SW      AUTO THEFT  P151941006   \n",
       "\n",
       "     incidentLocation                  location        lat        lon  \n",
       "0      0 N CALVERT ST  (39.2899299,-76.6123462)  39.289930 -76.612346  \n",
       "1    600 E FAYETTE ST  (39.2906737,-76.6071600)  39.290674 -76.607160  \n",
       "2  200 E BALTIMORE ST  (39.2898910,-76.6120720)  39.289891 -76.612072  \n",
       "3         800 PARK AV  (39.2985163,-76.6184754)  39.298516 -76.618475  \n",
       "4     3500 CLIFTON AV  (39.3112130,-76.6763150)  39.311213 -76.676315  "
      ]
     },
     "execution_count": 19,
     "metadata": {},
     "output_type": "execute_result"
    }
   ],
   "source": [
    "calls.head()"
   ]
  },
  {
   "cell_type": "code",
   "execution_count": null,
   "metadata": {
    "collapsed": true
   },
   "outputs": [],
   "source": [
    "#%%time\n",
    "#calls.loc[calls.lon.isnull()==True,'location'] = calls.loc[calls.lon.isnull()==True,'location'].apply(get_coordinates)"
   ]
  },
  {
   "cell_type": "code",
   "execution_count": 34,
   "metadata": {
    "collapsed": true
   },
   "outputs": [],
   "source": [
    "calls_sub=calls.loc[calls.lon.isnull()==True]"
   ]
  },
  {
   "cell_type": "code",
   "execution_count": 35,
   "metadata": {},
   "outputs": [
    {
     "data": {
      "text/plain": [
       "82532"
      ]
     },
     "execution_count": 35,
     "metadata": {},
     "output_type": "execute_result"
    }
   ],
   "source": [
    "calls_sub.loc[:,'location'].size"
   ]
  },
  {
   "cell_type": "code",
   "execution_count": 36,
   "metadata": {},
   "outputs": [
    {
     "data": {
      "text/plain": [
       "nan"
      ]
     },
     "execution_count": 36,
     "metadata": {},
     "output_type": "execute_result"
    }
   ],
   "source": [
    "calls_sub.iloc[0,6]"
   ]
  },
  {
   "cell_type": "code",
   "execution_count": null,
   "metadata": {
    "collapsed": true,
    "scrolled": true
   },
   "outputs": [],
   "source": [
    "#%%time\n",
    "#for x in range(0,1000):\n",
    "#    calls_sub.iloc[x,6] = get_coordinates(calls_sub.iloc[x,6])"
   ]
  },
  {
   "cell_type": "code",
   "execution_count": null,
   "metadata": {
    "collapsed": true,
    "scrolled": true
   },
   "outputs": [],
   "source": [
    "calls_sub['lat'] = calls_sub['location'].apply(set_lat)"
   ]
  },
  {
   "cell_type": "code",
   "execution_count": null,
   "metadata": {
    "collapsed": true
   },
   "outputs": [],
   "source": [
    "calls_sub['lon'] = calls_sub['location'].apply(set_lon)"
   ]
  },
  {
   "cell_type": "code",
   "execution_count": 39,
   "metadata": {},
   "outputs": [
    {
     "data": {
      "text/plain": [
       "nan"
      ]
     },
     "execution_count": 39,
     "metadata": {},
     "output_type": "execute_result"
    }
   ],
   "source": [
    "calls_sub.iloc[0,6]"
   ]
  },
  {
   "cell_type": "code",
   "execution_count": 40,
   "metadata": {
    "collapsed": true
   },
   "outputs": [],
   "source": [
    "# original: 82532\n",
    "# Round1: 82346"
   ]
  },
  {
   "cell_type": "code",
   "execution_count": 41,
   "metadata": {},
   "outputs": [
    {
     "data": {
      "text/plain": [
       "82532"
      ]
     },
     "execution_count": 41,
     "metadata": {},
     "output_type": "execute_result"
    }
   ],
   "source": [
    "calls_sub.loc[calls_sub.lon.isnull()==True,'location'].size"
   ]
  },
  {
   "cell_type": "code",
   "execution_count": null,
   "metadata": {
    "collapsed": true
   },
   "outputs": [],
   "source": [
    "82532 - 82346"
   ]
  }
 ],
 "metadata": {
  "kernelspec": {
   "display_name": "Python 3",
   "language": "python",
   "name": "python3"
  },
  "language_info": {
   "codemirror_mode": {
    "name": "ipython",
    "version": 3
   },
   "file_extension": ".py",
   "mimetype": "text/x-python",
   "name": "python",
   "nbconvert_exporter": "python",
   "pygments_lexer": "ipython3",
   "version": "3.6.2"
  }
 },
 "nbformat": 4,
 "nbformat_minor": 2
}

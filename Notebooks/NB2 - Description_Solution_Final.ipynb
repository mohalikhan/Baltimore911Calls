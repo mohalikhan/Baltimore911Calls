{
 "cells": [
  {
   "cell_type": "code",
   "execution_count": 22,
   "metadata": {
    "collapsed": true
   },
   "outputs": [],
   "source": [
    "import pandas as pd\n",
    "import numpy as np                  "
   ]
  },
  {
   "cell_type": "code",
   "execution_count": 23,
   "metadata": {
    "collapsed": true
   },
   "outputs": [],
   "source": [
    "df = pd.read_csv('911_calls_for_service.csv') # Parse the callDatetime column"
   ]
  },
  {
   "cell_type": "code",
   "execution_count": 24,
   "metadata": {
    "collapsed": true
   },
   "outputs": [],
   "source": [
    "df.drop('Unnamed: 0',axis=1,inplace=True)"
   ]
  },
  {
   "cell_type": "code",
   "execution_count": 25,
   "metadata": {
    "scrolled": false
   },
   "outputs": [
    {
     "data": {
      "text/html": [
       "<div>\n",
       "<style>\n",
       "    .dataframe thead tr:only-child th {\n",
       "        text-align: right;\n",
       "    }\n",
       "\n",
       "    .dataframe thead th {\n",
       "        text-align: left;\n",
       "    }\n",
       "\n",
       "    .dataframe tbody tr th {\n",
       "        vertical-align: top;\n",
       "    }\n",
       "</style>\n",
       "<table border=\"1\" class=\"dataframe\">\n",
       "  <thead>\n",
       "    <tr style=\"text-align: right;\">\n",
       "      <th></th>\n",
       "      <th>callDateTime</th>\n",
       "      <th>priority</th>\n",
       "      <th>district</th>\n",
       "      <th>description</th>\n",
       "      <th>callNumber</th>\n",
       "      <th>incidentLocation</th>\n",
       "      <th>location</th>\n",
       "    </tr>\n",
       "  </thead>\n",
       "  <tbody>\n",
       "    <tr>\n",
       "      <th>0</th>\n",
       "      <td>2015-07-13 10:41:00</td>\n",
       "      <td>Medium</td>\n",
       "      <td>CD</td>\n",
       "      <td>SEE TEXT</td>\n",
       "      <td>P151941002</td>\n",
       "      <td>0 N CALVERT ST</td>\n",
       "      <td>(39.2899299,-76.6123462)</td>\n",
       "    </tr>\n",
       "    <tr>\n",
       "      <th>1</th>\n",
       "      <td>2015-07-13 10:47:00</td>\n",
       "      <td>Medium</td>\n",
       "      <td>CD</td>\n",
       "      <td>911/NO  VOICE</td>\n",
       "      <td>P151941003</td>\n",
       "      <td>600 E FAYETTE ST</td>\n",
       "      <td>(39.2906737,-76.6071600)</td>\n",
       "    </tr>\n",
       "    <tr>\n",
       "      <th>2</th>\n",
       "      <td>2015-07-13 10:42:00</td>\n",
       "      <td>Medium</td>\n",
       "      <td>CD</td>\n",
       "      <td>911/NO  VOICE</td>\n",
       "      <td>P151941004</td>\n",
       "      <td>200 E BALTIMORE ST</td>\n",
       "      <td>(39.2898910,-76.6120720)</td>\n",
       "    </tr>\n",
       "    <tr>\n",
       "      <th>3</th>\n",
       "      <td>2015-07-13 10:45:00</td>\n",
       "      <td>Low</td>\n",
       "      <td>CD</td>\n",
       "      <td>PRKG COMPLAINT</td>\n",
       "      <td>P151941005</td>\n",
       "      <td>800 PARK AV</td>\n",
       "      <td>(39.2985163,-76.6184754)</td>\n",
       "    </tr>\n",
       "    <tr>\n",
       "      <th>4</th>\n",
       "      <td>2015-07-13 10:46:00</td>\n",
       "      <td>Medium</td>\n",
       "      <td>SW</td>\n",
       "      <td>AUTO THEFT</td>\n",
       "      <td>P151941006</td>\n",
       "      <td>3500 CLIFTON AV</td>\n",
       "      <td>(39.3112130,-76.6763150)</td>\n",
       "    </tr>\n",
       "    <tr>\n",
       "      <th>5</th>\n",
       "      <td>2015-07-13 10:47:00</td>\n",
       "      <td>Medium</td>\n",
       "      <td>ND</td>\n",
       "      <td>FAMILY DISTURB</td>\n",
       "      <td>P151941007</td>\n",
       "      <td>2700 N CALVERT ST</td>\n",
       "      <td>(39.3208510,-76.6147390)</td>\n",
       "    </tr>\n",
       "    <tr>\n",
       "      <th>6</th>\n",
       "      <td>2015-07-13 10:46:00</td>\n",
       "      <td>High</td>\n",
       "      <td>WD</td>\n",
       "      <td>SILENT ALARM</td>\n",
       "      <td>P151941008</td>\n",
       "      <td>2100 W NORTH AV</td>\n",
       "      <td>(39.3097096,-76.6513109)</td>\n",
       "    </tr>\n",
       "    <tr>\n",
       "      <th>7</th>\n",
       "      <td>2015-07-13 10:49:00</td>\n",
       "      <td>Low</td>\n",
       "      <td>SW</td>\n",
       "      <td>AUTO ACCIDENT</td>\n",
       "      <td>P151941010</td>\n",
       "      <td>3100 WILKENS AV</td>\n",
       "      <td>(39.2756929,-76.6664179)</td>\n",
       "    </tr>\n",
       "    <tr>\n",
       "      <th>8</th>\n",
       "      <td>2015-07-13 10:48:00</td>\n",
       "      <td>Medium</td>\n",
       "      <td>NE</td>\n",
       "      <td>FAMILY DISTURB</td>\n",
       "      <td>P151941011</td>\n",
       "      <td>4800 GILRAY DR</td>\n",
       "      <td>(39.3483090,-76.5768440)</td>\n",
       "    </tr>\n",
       "    <tr>\n",
       "      <th>9</th>\n",
       "      <td>2015-07-13 10:49:00</td>\n",
       "      <td>Medium</td>\n",
       "      <td>ND</td>\n",
       "      <td>NARCOTICSOutside</td>\n",
       "      <td>P151941012</td>\n",
       "      <td>W GARRISON AV/PIMLICO RD</td>\n",
       "      <td>(39.349653,-76.669145)</td>\n",
       "    </tr>\n",
       "    <tr>\n",
       "      <th>10</th>\n",
       "      <td>2015-07-13 10:49:00</td>\n",
       "      <td>Low</td>\n",
       "      <td>CD</td>\n",
       "      <td>UNKNOWN TROUBLE</td>\n",
       "      <td>P151941013</td>\n",
       "      <td>400 W FRANKLIN ST</td>\n",
       "      <td>(39.2950980,-76.6214710)</td>\n",
       "    </tr>\n",
       "    <tr>\n",
       "      <th>11</th>\n",
       "      <td>2015-07-13 10:52:00</td>\n",
       "      <td>Non-Emergency</td>\n",
       "      <td>CD</td>\n",
       "      <td>FOLLOW UP</td>\n",
       "      <td>P151941014</td>\n",
       "      <td>1500 PENNSYLVANIA AV</td>\n",
       "      <td>(39.3022430,-76.6330752)</td>\n",
       "    </tr>\n",
       "    <tr>\n",
       "      <th>12</th>\n",
       "      <td>2015-07-13 10:52:00</td>\n",
       "      <td>High</td>\n",
       "      <td>SW</td>\n",
       "      <td>AUTO ACC/INJURY</td>\n",
       "      <td>P151941015</td>\n",
       "      <td>1100 COOKS LN</td>\n",
       "      <td>(39.2981477,-76.7098689)</td>\n",
       "    </tr>\n",
       "    <tr>\n",
       "      <th>13</th>\n",
       "      <td>2015-07-13 10:53:00</td>\n",
       "      <td>Non-Emergency</td>\n",
       "      <td>SW</td>\n",
       "      <td>Repairs/Service</td>\n",
       "      <td>P151941016</td>\n",
       "      <td>100</td>\n",
       "      <td>(39.3810499,-76.6572571)</td>\n",
       "    </tr>\n",
       "  </tbody>\n",
       "</table>\n",
       "</div>"
      ],
      "text/plain": [
       "           callDateTime       priority district       description  callNumber  \\\n",
       "0   2015-07-13 10:41:00         Medium       CD          SEE TEXT  P151941002   \n",
       "1   2015-07-13 10:47:00         Medium       CD     911/NO  VOICE  P151941003   \n",
       "2   2015-07-13 10:42:00         Medium       CD     911/NO  VOICE  P151941004   \n",
       "3   2015-07-13 10:45:00            Low       CD    PRKG COMPLAINT  P151941005   \n",
       "4   2015-07-13 10:46:00         Medium       SW        AUTO THEFT  P151941006   \n",
       "5   2015-07-13 10:47:00         Medium       ND    FAMILY DISTURB  P151941007   \n",
       "6   2015-07-13 10:46:00           High       WD      SILENT ALARM  P151941008   \n",
       "7   2015-07-13 10:49:00            Low       SW     AUTO ACCIDENT  P151941010   \n",
       "8   2015-07-13 10:48:00         Medium       NE    FAMILY DISTURB  P151941011   \n",
       "9   2015-07-13 10:49:00         Medium       ND  NARCOTICSOutside  P151941012   \n",
       "10  2015-07-13 10:49:00            Low       CD   UNKNOWN TROUBLE  P151941013   \n",
       "11  2015-07-13 10:52:00  Non-Emergency       CD         FOLLOW UP  P151941014   \n",
       "12  2015-07-13 10:52:00           High       SW   AUTO ACC/INJURY  P151941015   \n",
       "13  2015-07-13 10:53:00  Non-Emergency       SW   Repairs/Service  P151941016   \n",
       "\n",
       "            incidentLocation                  location  \n",
       "0             0 N CALVERT ST  (39.2899299,-76.6123462)  \n",
       "1           600 E FAYETTE ST  (39.2906737,-76.6071600)  \n",
       "2         200 E BALTIMORE ST  (39.2898910,-76.6120720)  \n",
       "3                800 PARK AV  (39.2985163,-76.6184754)  \n",
       "4            3500 CLIFTON AV  (39.3112130,-76.6763150)  \n",
       "5          2700 N CALVERT ST  (39.3208510,-76.6147390)  \n",
       "6            2100 W NORTH AV  (39.3097096,-76.6513109)  \n",
       "7            3100 WILKENS AV  (39.2756929,-76.6664179)  \n",
       "8             4800 GILRAY DR  (39.3483090,-76.5768440)  \n",
       "9   W GARRISON AV/PIMLICO RD    (39.349653,-76.669145)  \n",
       "10         400 W FRANKLIN ST  (39.2950980,-76.6214710)  \n",
       "11      1500 PENNSYLVANIA AV  (39.3022430,-76.6330752)  \n",
       "12             1100 COOKS LN  (39.2981477,-76.7098689)  \n",
       "13                       100  (39.3810499,-76.6572571)  "
      ]
     },
     "execution_count": 25,
     "metadata": {},
     "output_type": "execute_result"
    }
   ],
   "source": [
    "df.head(14)"
   ]
  },
  {
   "cell_type": "code",
   "execution_count": 26,
   "metadata": {},
   "outputs": [
    {
     "data": {
      "text/plain": [
       "callDateTime           0\n",
       "priority            6655\n",
       "district               0\n",
       "description            0\n",
       "callNumber             0\n",
       "incidentLocation       0\n",
       "location               0\n",
       "dtype: int64"
      ]
     },
     "execution_count": 26,
     "metadata": {},
     "output_type": "execute_result"
    }
   ],
   "source": [
    "# no missing data for 'description'\n",
    "df.isnull().sum()"
   ]
  },
  {
   "cell_type": "code",
   "execution_count": 27,
   "metadata": {
    "collapsed": true
   },
   "outputs": [],
   "source": [
    "df['description']=df['description'].str.upper()"
   ]
  },
  {
   "cell_type": "code",
   "execution_count": 28,
   "metadata": {},
   "outputs": [
    {
     "data": {
      "text/html": [
       "<div>\n",
       "<style>\n",
       "    .dataframe thead tr:only-child th {\n",
       "        text-align: right;\n",
       "    }\n",
       "\n",
       "    .dataframe thead th {\n",
       "        text-align: left;\n",
       "    }\n",
       "\n",
       "    .dataframe tbody tr th {\n",
       "        vertical-align: top;\n",
       "    }\n",
       "</style>\n",
       "<table border=\"1\" class=\"dataframe\">\n",
       "  <thead>\n",
       "    <tr style=\"text-align: right;\">\n",
       "      <th></th>\n",
       "      <th>callDateTime</th>\n",
       "      <th>priority</th>\n",
       "      <th>district</th>\n",
       "      <th>description</th>\n",
       "      <th>callNumber</th>\n",
       "      <th>incidentLocation</th>\n",
       "      <th>location</th>\n",
       "    </tr>\n",
       "  </thead>\n",
       "  <tbody>\n",
       "    <tr>\n",
       "      <th>140242</th>\n",
       "      <td>2015-08-28 12:45:00</td>\n",
       "      <td>Low</td>\n",
       "      <td>NE</td>\n",
       "      <td>.</td>\n",
       "      <td>P152401388</td>\n",
       "      <td>WALKER AV/LOCH RAVEN BL</td>\n",
       "      <td>(39.370120,-76.583377)</td>\n",
       "    </tr>\n",
       "  </tbody>\n",
       "</table>\n",
       "</div>"
      ],
      "text/plain": [
       "               callDateTime priority district description  callNumber  \\\n",
       "140242  2015-08-28 12:45:00      Low       NE           .  P152401388   \n",
       "\n",
       "               incidentLocation                location  \n",
       "140242  WALKER AV/LOCH RAVEN BL  (39.370120,-76.583377)  "
      ]
     },
     "execution_count": 28,
     "metadata": {},
     "output_type": "execute_result"
    }
   ],
   "source": [
    "df.loc[[140242]]"
   ]
  },
  {
   "cell_type": "code",
   "execution_count": 29,
   "metadata": {
    "collapsed": true
   },
   "outputs": [],
   "source": [
    "#Replacing all non-alphanumeric characters with empty string\n",
    "#df = df.replace({'description': '[\\W]'},'',regex=True)\n",
    "df = df.replace({'description': '[^a-zA-Z0-9/ _]'},'',regex=True)"
   ]
  },
  {
   "cell_type": "code",
   "execution_count": 30,
   "metadata": {
    "collapsed": true
   },
   "outputs": [],
   "source": [
    "df.description = df.description.str.replace('/',' ')\n",
    "df.description = df.description.str.replace('  ',' ')"
   ]
  },
  {
   "cell_type": "code",
   "execution_count": 31,
   "metadata": {},
   "outputs": [
    {
     "data": {
      "text/html": [
       "<div>\n",
       "<style>\n",
       "    .dataframe thead tr:only-child th {\n",
       "        text-align: right;\n",
       "    }\n",
       "\n",
       "    .dataframe thead th {\n",
       "        text-align: left;\n",
       "    }\n",
       "\n",
       "    .dataframe tbody tr th {\n",
       "        vertical-align: top;\n",
       "    }\n",
       "</style>\n",
       "<table border=\"1\" class=\"dataframe\">\n",
       "  <thead>\n",
       "    <tr style=\"text-align: right;\">\n",
       "      <th></th>\n",
       "      <th>callDateTime</th>\n",
       "      <th>priority</th>\n",
       "      <th>district</th>\n",
       "      <th>description</th>\n",
       "      <th>callNumber</th>\n",
       "      <th>incidentLocation</th>\n",
       "      <th>location</th>\n",
       "    </tr>\n",
       "  </thead>\n",
       "  <tbody>\n",
       "    <tr>\n",
       "      <th>140242</th>\n",
       "      <td>2015-08-28 12:45:00</td>\n",
       "      <td>Low</td>\n",
       "      <td>NE</td>\n",
       "      <td></td>\n",
       "      <td>P152401388</td>\n",
       "      <td>WALKER AV/LOCH RAVEN BL</td>\n",
       "      <td>(39.370120,-76.583377)</td>\n",
       "    </tr>\n",
       "  </tbody>\n",
       "</table>\n",
       "</div>"
      ],
      "text/plain": [
       "               callDateTime priority district description  callNumber  \\\n",
       "140242  2015-08-28 12:45:00      Low       NE              P152401388   \n",
       "\n",
       "               incidentLocation                location  \n",
       "140242  WALKER AV/LOCH RAVEN BL  (39.370120,-76.583377)  "
      ]
     },
     "execution_count": 31,
     "metadata": {},
     "output_type": "execute_result"
    }
   ],
   "source": [
    "df.loc[[140242]]"
   ]
  },
  {
   "cell_type": "code",
   "execution_count": 32,
   "metadata": {
    "collapsed": true
   },
   "outputs": [],
   "source": [
    "df.description = df.description.str.strip()"
   ]
  },
  {
   "cell_type": "code",
   "execution_count": 33,
   "metadata": {
    "scrolled": true
   },
   "outputs": [
    {
     "data": {
      "text/plain": [
       "115"
      ]
     },
     "execution_count": 33,
     "metadata": {},
     "output_type": "execute_result"
    }
   ],
   "source": [
    "df.description[df.description==''].count()"
   ]
  },
  {
   "cell_type": "code",
   "execution_count": 34,
   "metadata": {
    "collapsed": true
   },
   "outputs": [],
   "source": [
    "df.loc[df.description=='','description'] = 'NO DESC'"
   ]
  },
  {
   "cell_type": "code",
   "execution_count": 35,
   "metadata": {},
   "outputs": [
    {
     "data": {
      "text/plain": [
       "description         115\n",
       "callDateTime        115\n",
       "priority            115\n",
       "district            115\n",
       "callNumber          115\n",
       "incidentLocation    115\n",
       "location            115\n",
       "dtype: int64"
      ]
     },
     "execution_count": 35,
     "metadata": {},
     "output_type": "execute_result"
    }
   ],
   "source": [
    "grouped = df.groupby('description').count().reset_index()\n",
    "grouped.sort_values('priority', ascending=False,inplace=True)\n",
    "grouped[grouped.priority>1000].count()"
   ]
  },
  {
   "cell_type": "code",
   "execution_count": 36,
   "metadata": {},
   "outputs": [
    {
     "data": {
      "text/html": [
       "<div>\n",
       "<style>\n",
       "    .dataframe thead tr:only-child th {\n",
       "        text-align: right;\n",
       "    }\n",
       "\n",
       "    .dataframe thead th {\n",
       "        text-align: left;\n",
       "    }\n",
       "\n",
       "    .dataframe tbody tr th {\n",
       "        vertical-align: top;\n",
       "    }\n",
       "</style>\n",
       "<table border=\"1\" class=\"dataframe\">\n",
       "  <thead>\n",
       "    <tr style=\"text-align: right;\">\n",
       "      <th></th>\n",
       "      <th>description</th>\n",
       "      <th>callDateTime</th>\n",
       "      <th>priority</th>\n",
       "      <th>district</th>\n",
       "      <th>callNumber</th>\n",
       "      <th>incidentLocation</th>\n",
       "      <th>location</th>\n",
       "    </tr>\n",
       "  </thead>\n",
       "  <tbody>\n",
       "    <tr>\n",
       "      <th>221</th>\n",
       "      <td>911 NO VOICE</td>\n",
       "      <td>489758</td>\n",
       "      <td>489752</td>\n",
       "      <td>489758</td>\n",
       "      <td>489758</td>\n",
       "      <td>489758</td>\n",
       "      <td>489758</td>\n",
       "    </tr>\n",
       "    <tr>\n",
       "      <th>1821</th>\n",
       "      <td>DISORDERLY</td>\n",
       "      <td>250189</td>\n",
       "      <td>249481</td>\n",
       "      <td>250189</td>\n",
       "      <td>250189</td>\n",
       "      <td>250189</td>\n",
       "      <td>250189</td>\n",
       "    </tr>\n",
       "    <tr>\n",
       "      <th>5746</th>\n",
       "      <td>TRAFFIC STOP</td>\n",
       "      <td>167912</td>\n",
       "      <td>167912</td>\n",
       "      <td>167912</td>\n",
       "      <td>167912</td>\n",
       "      <td>167912</td>\n",
       "      <td>167912</td>\n",
       "    </tr>\n",
       "    <tr>\n",
       "      <th>1508</th>\n",
       "      <td>COMMON ASSAULT</td>\n",
       "      <td>125568</td>\n",
       "      <td>123685</td>\n",
       "      <td>125568</td>\n",
       "      <td>125568</td>\n",
       "      <td>125568</td>\n",
       "      <td>125568</td>\n",
       "    </tr>\n",
       "    <tr>\n",
       "      <th>676</th>\n",
       "      <td>AUTO ACCIDENT</td>\n",
       "      <td>116050</td>\n",
       "      <td>115980</td>\n",
       "      <td>116050</td>\n",
       "      <td>116050</td>\n",
       "      <td>116050</td>\n",
       "      <td>116050</td>\n",
       "    </tr>\n",
       "    <tr>\n",
       "      <th>3851</th>\n",
       "      <td>NARCOTICSOUTSIDE</td>\n",
       "      <td>99549</td>\n",
       "      <td>99455</td>\n",
       "      <td>99549</td>\n",
       "      <td>99549</td>\n",
       "      <td>99549</td>\n",
       "      <td>99549</td>\n",
       "    </tr>\n",
       "    <tr>\n",
       "      <th>4117</th>\n",
       "      <td>OTHER</td>\n",
       "      <td>91515</td>\n",
       "      <td>91504</td>\n",
       "      <td>91515</td>\n",
       "      <td>91515</td>\n",
       "      <td>91515</td>\n",
       "      <td>91515</td>\n",
       "    </tr>\n",
       "    <tr>\n",
       "      <th>5349</th>\n",
       "      <td>SILENT ALARM</td>\n",
       "      <td>84249</td>\n",
       "      <td>84163</td>\n",
       "      <td>84249</td>\n",
       "      <td>84249</td>\n",
       "      <td>84249</td>\n",
       "      <td>84249</td>\n",
       "    </tr>\n",
       "    <tr>\n",
       "      <th>2248</th>\n",
       "      <td>FAMILY DISTURB</td>\n",
       "      <td>72673</td>\n",
       "      <td>72470</td>\n",
       "      <td>72673</td>\n",
       "      <td>72673</td>\n",
       "      <td>72673</td>\n",
       "      <td>72673</td>\n",
       "    </tr>\n",
       "    <tr>\n",
       "      <th>5040</th>\n",
       "      <td>REPAIRS SERVICE</td>\n",
       "      <td>67050</td>\n",
       "      <td>67050</td>\n",
       "      <td>67050</td>\n",
       "      <td>67050</td>\n",
       "      <td>67050</td>\n",
       "      <td>67050</td>\n",
       "    </tr>\n",
       "  </tbody>\n",
       "</table>\n",
       "</div>"
      ],
      "text/plain": [
       "           description  callDateTime  priority  district  callNumber  \\\n",
       "221       911 NO VOICE        489758    489752    489758      489758   \n",
       "1821        DISORDERLY        250189    249481    250189      250189   \n",
       "5746      TRAFFIC STOP        167912    167912    167912      167912   \n",
       "1508    COMMON ASSAULT        125568    123685    125568      125568   \n",
       "676      AUTO ACCIDENT        116050    115980    116050      116050   \n",
       "3851  NARCOTICSOUTSIDE         99549     99455     99549       99549   \n",
       "4117             OTHER         91515     91504     91515       91515   \n",
       "5349      SILENT ALARM         84249     84163     84249       84249   \n",
       "2248    FAMILY DISTURB         72673     72470     72673       72673   \n",
       "5040   REPAIRS SERVICE         67050     67050     67050       67050   \n",
       "\n",
       "      incidentLocation  location  \n",
       "221             489758    489758  \n",
       "1821            250189    250189  \n",
       "5746            167912    167912  \n",
       "1508            125568    125568  \n",
       "676             116050    116050  \n",
       "3851             99549     99549  \n",
       "4117             91515     91515  \n",
       "5349             84249     84249  \n",
       "2248             72673     72673  \n",
       "5040             67050     67050  "
      ]
     },
     "execution_count": 36,
     "metadata": {},
     "output_type": "execute_result"
    }
   ],
   "source": [
    "grouped[grouped.priority>1000].head(n=10)"
   ]
  },
  {
   "cell_type": "code",
   "execution_count": 37,
   "metadata": {
    "collapsed": true
   },
   "outputs": [],
   "source": [
    "grouped[grouped.priority>1000].to_csv('911_calls_descriptions.csv')"
   ]
  },
  {
   "cell_type": "code",
   "execution_count": 38,
   "metadata": {
    "collapsed": true
   },
   "outputs": [],
   "source": [
    "df.description.replace({ #FINDING AND REPLACING THE DESCRIPTION\n",
    "    'INVESTIFATE': 'INVESTIGATE',\n",
    "    'BAIL-OUT': 'BAILOUT',\n",
    "    'BALOUT': 'BAILOUT',\n",
    "    ' BAIL OUT':'BAILOUT',\n",
    "    'BAILED OUT': 'BAILOUT',\n",
    "    ' ASSAULT': 'ASSAULT',\n",
    "    ' ASSAULTED': 'ASSAULT',\n",
    "    'Y': 'YELLING FOR HELP',\n",
    "    'YELLING HELP': 'YELLING FOR HELP',\n",
    "    'YP':'YELLING FOR HELP',\n",
    "    'ECORT':'ESCORT',\n",
    "    'WROMG NUMBER': 'WRONG NUMBER',\n",
    "    'WRONG UNMBER': 'WRONG NUMBER',\n",
    "    'Wanted on Warr': 'Warrant Service',\n",
    "    'YELLING FOR HELP':'YELL FOR HELP',\n",
    "    'YELL 4 HELP': 'YELL FOR HELP',\n",
    "    'WRECKLESS DRVR': 'WRECKLESSDRIVER',''\n",
    "    ' BAIL-0UT': 'BAILOUT',\n",
    "    ' BAILOUT': 'BAILOUT',\n",
    "    ' BAIL-OUT': 'BAILOUT',\n",
    "    'WRECKLESS DRVING': 'WRECKLESSDRIVER',\n",
    "    'WRECKLESS DRV': 'WRECKLESSDRIVER',\n",
    "    'WRECKLESS DRIVR': 'WRECKLESSDRIVER',\n",
    "    'WRECKLESS DRIVIN': 'WRECKLESSDRIVER',\n",
    "    'WRECKLESS DRIVER':  'WRECKLESSDRIVER',\n",
    "    'WRECKLESS DRIVE': 'WRECKLESSDRIVER',\n",
    "    'WRECFKLESS DRIVE':'WRECKLESSDRIVER',\n",
    "    'WRCKLSS DRIVER': 'WRECKLESSDRIVER',\n",
    "    'WRCKLESS DRIVER': 'WRECKLESSDRIVER',\n",
    "    ' WRECKLESS DRIVE':'WRECKLESSDRIVER',\n",
    "    'WRECKLESS': 'WRECKLESSDRIVER',\n",
    "    'WRECKLES DRIVING': 'WRECKLESSDRIVER',\n",
    "    'WRECKLES DRIVERS': 'WRECKLESSDRIVER',\n",
    "    'WRECKLES DRIVER': 'WRECKLESSDRIVER',\n",
    "    '`INVEST': 'INVESTIGATE',\n",
    "    '`INVESTIGATE': 'INVESTIGATE',\n",
    "    'iNVESTIGATE': 'INVESTIGATE',\n",
    "    '*#TRAFIC ARREST': '*#TRAFFIC ARREST',\n",
    "    '&75': '& 75',\n",
    "    '911/No Voice': '911/NO  VOICE',\n",
    "    '911HANGUP': '911/HANGUP',\n",
    "    '911 HANGUP': '911/HANGUP',\n",
    "    'FAMILY DISTURBAN': 'FAMILY DISTURB',\n",
    "    'FAMILY DISTURBP': 'FAMILY DISTURB',\n",
    "    'AUTO ACC/INJURY': 'AUTO ACCIDENT',\n",
    "    '*INVESTIGATE' : 'INVESTIGATE',\n",
    "    '*TRAFFIC CONTROL'    : 'TRAFFIC CONTROL',\n",
    "    'CHECK WELLBEING': 'CHECK WELL BEING'}, inplace = True)"
   ]
  },
  {
   "cell_type": "code",
   "execution_count": 39,
   "metadata": {
    "collapsed": true
   },
   "outputs": [],
   "source": [
    "df.to_csv('911_calls_for_service_description.csv')"
   ]
  },
  {
   "cell_type": "code",
   "execution_count": 40,
   "metadata": {
    "collapsed": true
   },
   "outputs": [],
   "source": [
    "df = pd.read_csv('911_calls_for_service_description.csv')"
   ]
  },
  {
   "cell_type": "code",
   "execution_count": 41,
   "metadata": {},
   "outputs": [
    {
     "data": {
      "text/html": [
       "<div>\n",
       "<style>\n",
       "    .dataframe thead tr:only-child th {\n",
       "        text-align: right;\n",
       "    }\n",
       "\n",
       "    .dataframe thead th {\n",
       "        text-align: left;\n",
       "    }\n",
       "\n",
       "    .dataframe tbody tr th {\n",
       "        vertical-align: top;\n",
       "    }\n",
       "</style>\n",
       "<table border=\"1\" class=\"dataframe\">\n",
       "  <thead>\n",
       "    <tr style=\"text-align: right;\">\n",
       "      <th></th>\n",
       "      <th>Unnamed: 0</th>\n",
       "      <th>callDateTime</th>\n",
       "      <th>priority</th>\n",
       "      <th>district</th>\n",
       "      <th>description</th>\n",
       "      <th>callNumber</th>\n",
       "      <th>incidentLocation</th>\n",
       "      <th>location</th>\n",
       "    </tr>\n",
       "  </thead>\n",
       "  <tbody>\n",
       "    <tr>\n",
       "      <th>0</th>\n",
       "      <td>0</td>\n",
       "      <td>2015-07-13 10:41:00</td>\n",
       "      <td>Medium</td>\n",
       "      <td>CD</td>\n",
       "      <td>SEE TEXT</td>\n",
       "      <td>P151941002</td>\n",
       "      <td>0 N CALVERT ST</td>\n",
       "      <td>(39.2899299,-76.6123462)</td>\n",
       "    </tr>\n",
       "    <tr>\n",
       "      <th>1</th>\n",
       "      <td>1</td>\n",
       "      <td>2015-07-13 10:47:00</td>\n",
       "      <td>Medium</td>\n",
       "      <td>CD</td>\n",
       "      <td>911 NO VOICE</td>\n",
       "      <td>P151941003</td>\n",
       "      <td>600 E FAYETTE ST</td>\n",
       "      <td>(39.2906737,-76.6071600)</td>\n",
       "    </tr>\n",
       "    <tr>\n",
       "      <th>2</th>\n",
       "      <td>2</td>\n",
       "      <td>2015-07-13 10:42:00</td>\n",
       "      <td>Medium</td>\n",
       "      <td>CD</td>\n",
       "      <td>911 NO VOICE</td>\n",
       "      <td>P151941004</td>\n",
       "      <td>200 E BALTIMORE ST</td>\n",
       "      <td>(39.2898910,-76.6120720)</td>\n",
       "    </tr>\n",
       "    <tr>\n",
       "      <th>3</th>\n",
       "      <td>3</td>\n",
       "      <td>2015-07-13 10:45:00</td>\n",
       "      <td>Low</td>\n",
       "      <td>CD</td>\n",
       "      <td>PRKG COMPLAINT</td>\n",
       "      <td>P151941005</td>\n",
       "      <td>800 PARK AV</td>\n",
       "      <td>(39.2985163,-76.6184754)</td>\n",
       "    </tr>\n",
       "    <tr>\n",
       "      <th>4</th>\n",
       "      <td>4</td>\n",
       "      <td>2015-07-13 10:46:00</td>\n",
       "      <td>Medium</td>\n",
       "      <td>SW</td>\n",
       "      <td>AUTO THEFT</td>\n",
       "      <td>P151941006</td>\n",
       "      <td>3500 CLIFTON AV</td>\n",
       "      <td>(39.3112130,-76.6763150)</td>\n",
       "    </tr>\n",
       "  </tbody>\n",
       "</table>\n",
       "</div>"
      ],
      "text/plain": [
       "   Unnamed: 0         callDateTime priority district     description  \\\n",
       "0           0  2015-07-13 10:41:00   Medium       CD        SEE TEXT   \n",
       "1           1  2015-07-13 10:47:00   Medium       CD    911 NO VOICE   \n",
       "2           2  2015-07-13 10:42:00   Medium       CD    911 NO VOICE   \n",
       "3           3  2015-07-13 10:45:00      Low       CD  PRKG COMPLAINT   \n",
       "4           4  2015-07-13 10:46:00   Medium       SW      AUTO THEFT   \n",
       "\n",
       "   callNumber    incidentLocation                  location  \n",
       "0  P151941002      0 N CALVERT ST  (39.2899299,-76.6123462)  \n",
       "1  P151941003    600 E FAYETTE ST  (39.2906737,-76.6071600)  \n",
       "2  P151941004  200 E BALTIMORE ST  (39.2898910,-76.6120720)  \n",
       "3  P151941005         800 PARK AV  (39.2985163,-76.6184754)  \n",
       "4  P151941006     3500 CLIFTON AV  (39.3112130,-76.6763150)  "
      ]
     },
     "execution_count": 41,
     "metadata": {},
     "output_type": "execute_result"
    }
   ],
   "source": [
    "df.head()"
   ]
  }
 ],
 "metadata": {
  "kernelspec": {
   "display_name": "Python 3",
   "language": "python",
   "name": "python3"
  },
  "language_info": {
   "codemirror_mode": {
    "name": "ipython",
    "version": 3
   },
   "file_extension": ".py",
   "mimetype": "text/x-python",
   "name": "python",
   "nbconvert_exporter": "python",
   "pygments_lexer": "ipython3",
   "version": "3.6.2"
  }
 },
 "nbformat": 4,
 "nbformat_minor": 2
}

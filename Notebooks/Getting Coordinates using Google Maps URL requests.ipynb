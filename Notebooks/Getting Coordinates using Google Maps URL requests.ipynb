{
 "cells": [
  {
   "cell_type": "code",
   "execution_count": 1,
   "metadata": {
    "collapsed": true
   },
   "outputs": [],
   "source": [
    "import pandas as pd\n",
    "import numpy as np"
   ]
  },
  {
   "cell_type": "code",
   "execution_count": 12,
   "metadata": {
    "collapsed": true
   },
   "outputs": [],
   "source": [
    "import urllib"
   ]
  },
  {
   "cell_type": "code",
   "execution_count": 13,
   "metadata": {},
   "outputs": [
    {
     "name": "stdout",
     "output_type": "stream",
     "text": [
      "lon:  39.2959469 \n",
      "lat:  -76.6269883\n",
      "(39.2959469,-76.6269883)\n"
     ]
    }
   ],
   "source": [
    "#url = 'https://www.google.ca/maps/place/1000+Edison+HW,+Baltimore'\n",
    "#location = '2000 EDGEWOOD ST'\n",
    "location = '500 N MARTIN LUTHER KING JR BL '\n",
    "\n",
    "url = 'https://www.google.ca/maps/place/' + location.strip().replace(' ','+') + ',+Baltimore'\n",
    "\n",
    "response = urllib.request.urlopen(url)\n",
    "\n",
    "for x in range(10):\n",
    "        response.readline()\n",
    "data = str(response.readline()).split('],[')[0]\n",
    "lat, lon = data.split(',')[1:]\n",
    "lon = float(lon)\n",
    "lat = float(lat)\n",
    "print('lon: ',lon,'\\nlat: ',lat)\n",
    "print('('+repr(lon)+','+repr(lat)+')')"
   ]
  },
  {
   "cell_type": "code",
   "execution_count": null,
   "metadata": {
    "collapsed": true
   },
   "outputs": [],
   "source": []
  }
 ],
 "metadata": {
  "kernelspec": {
   "display_name": "Python 3",
   "language": "python",
   "name": "python3"
  },
  "language_info": {
   "codemirror_mode": {
    "name": "ipython",
    "version": 3
   },
   "file_extension": ".py",
   "mimetype": "text/x-python",
   "name": "python",
   "nbconvert_exporter": "python",
   "pygments_lexer": "ipython3",
   "version": "3.6.2"
  }
 },
 "nbformat": 4,
 "nbformat_minor": 2
}

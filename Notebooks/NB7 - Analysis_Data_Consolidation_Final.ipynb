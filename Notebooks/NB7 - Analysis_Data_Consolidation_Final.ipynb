{
 "cells": [
  {
   "cell_type": "code",
   "execution_count": 1,
   "metadata": {
    "collapsed": true
   },
   "outputs": [],
   "source": [
    "import pandas as pd\n",
    "import numpy as np"
   ]
  },
  {
   "cell_type": "code",
   "execution_count": 2,
   "metadata": {
    "collapsed": true
   },
   "outputs": [],
   "source": [
    "calls = pd.read_csv('911_calls_for_service.csv')\n",
    "calls.drop('Unnamed: 0',axis=1, inplace=True)\n",
    "calls_cord = pd.read_csv('911_calls_for_service_coordinates.csv')\n",
    "calls_cord.drop('Unnamed: 0',axis=1, inplace=True)\n",
    "calls_pr = pd.read_csv('911_calls_for_service_priority.csv')\n",
    "calls_pr.drop('Unnamed: 0',axis=1, inplace=True)\n",
    "calls_desc = pd.read_csv('911_calls_for_service_description.csv')\n",
    "calls_desc.drop('Unnamed: 0',axis=1, inplace=True)"
   ]
  },
  {
   "cell_type": "code",
   "execution_count": 3,
   "metadata": {},
   "outputs": [
    {
     "data": {
      "text/html": [
       "<div>\n",
       "<style>\n",
       "    .dataframe thead tr:only-child th {\n",
       "        text-align: right;\n",
       "    }\n",
       "\n",
       "    .dataframe thead th {\n",
       "        text-align: left;\n",
       "    }\n",
       "\n",
       "    .dataframe tbody tr th {\n",
       "        vertical-align: top;\n",
       "    }\n",
       "</style>\n",
       "<table border=\"1\" class=\"dataframe\">\n",
       "  <thead>\n",
       "    <tr style=\"text-align: right;\">\n",
       "      <th></th>\n",
       "      <th>callDateTime</th>\n",
       "      <th>priority</th>\n",
       "      <th>district</th>\n",
       "      <th>description</th>\n",
       "      <th>callNumber</th>\n",
       "      <th>incidentLocation</th>\n",
       "      <th>location</th>\n",
       "    </tr>\n",
       "  </thead>\n",
       "  <tbody>\n",
       "    <tr>\n",
       "      <th>0</th>\n",
       "      <td>2015-07-13 10:41:00</td>\n",
       "      <td>Medium</td>\n",
       "      <td>CD</td>\n",
       "      <td>SEE TEXT</td>\n",
       "      <td>P151941002</td>\n",
       "      <td>0 N CALVERT ST</td>\n",
       "      <td>(39.2899299,-76.6123462)</td>\n",
       "    </tr>\n",
       "    <tr>\n",
       "      <th>2799913</th>\n",
       "      <td>2017-08-21 11:49:00</td>\n",
       "      <td>Medium</td>\n",
       "      <td>WD</td>\n",
       "      <td>DISORDERLY</td>\n",
       "      <td>P172331043</td>\n",
       "      <td>2700 W FRANKLIN ST</td>\n",
       "      <td>(39.2934320,-76.6614790)</td>\n",
       "    </tr>\n",
       "  </tbody>\n",
       "</table>\n",
       "</div>"
      ],
      "text/plain": [
       "                callDateTime priority district description  callNumber  \\\n",
       "0        2015-07-13 10:41:00   Medium       CD    SEE TEXT  P151941002   \n",
       "2799913  2017-08-21 11:49:00   Medium       WD  DISORDERLY  P172331043   \n",
       "\n",
       "           incidentLocation                  location  \n",
       "0            0 N CALVERT ST  (39.2899299,-76.6123462)  \n",
       "2799913  2700 W FRANKLIN ST  (39.2934320,-76.6614790)  "
      ]
     },
     "execution_count": 3,
     "metadata": {},
     "output_type": "execute_result"
    }
   ],
   "source": [
    "calls.iloc[[0,-1]]"
   ]
  },
  {
   "cell_type": "code",
   "execution_count": 4,
   "metadata": {},
   "outputs": [
    {
     "data": {
      "text/plain": [
       "2799914"
      ]
     },
     "execution_count": 4,
     "metadata": {},
     "output_type": "execute_result"
    }
   ],
   "source": [
    "len(calls)"
   ]
  },
  {
   "cell_type": "code",
   "execution_count": 5,
   "metadata": {},
   "outputs": [
    {
     "data": {
      "text/html": [
       "<div>\n",
       "<style>\n",
       "    .dataframe thead tr:only-child th {\n",
       "        text-align: right;\n",
       "    }\n",
       "\n",
       "    .dataframe thead th {\n",
       "        text-align: left;\n",
       "    }\n",
       "\n",
       "    .dataframe tbody tr th {\n",
       "        vertical-align: top;\n",
       "    }\n",
       "</style>\n",
       "<table border=\"1\" class=\"dataframe\">\n",
       "  <thead>\n",
       "    <tr style=\"text-align: right;\">\n",
       "      <th></th>\n",
       "      <th>callNumber</th>\n",
       "      <th>callDateTime</th>\n",
       "      <th>priority</th>\n",
       "      <th>district</th>\n",
       "      <th>description</th>\n",
       "      <th>incidentLocation</th>\n",
       "      <th>location</th>\n",
       "    </tr>\n",
       "  </thead>\n",
       "  <tbody>\n",
       "    <tr>\n",
       "      <th>0</th>\n",
       "      <td>P151941002</td>\n",
       "      <td>2015-07-13 10:41:00</td>\n",
       "      <td>Medium</td>\n",
       "      <td>CD</td>\n",
       "      <td>SEE TEXT</td>\n",
       "      <td>0 N CALVERT ST</td>\n",
       "      <td>(39.2899299,-76.6123462)</td>\n",
       "    </tr>\n",
       "    <tr>\n",
       "      <th>2799913</th>\n",
       "      <td>P172331043</td>\n",
       "      <td>2017-08-21 11:49:00</td>\n",
       "      <td>Medium</td>\n",
       "      <td>WD</td>\n",
       "      <td>DISORDERLY</td>\n",
       "      <td>2700 W FRANKLIN ST</td>\n",
       "      <td>(39.2934320,-76.6614790)</td>\n",
       "    </tr>\n",
       "  </tbody>\n",
       "</table>\n",
       "</div>"
      ],
      "text/plain": [
       "         callNumber         callDateTime priority district description  \\\n",
       "0        P151941002  2015-07-13 10:41:00   Medium       CD    SEE TEXT   \n",
       "2799913  P172331043  2017-08-21 11:49:00   Medium       WD  DISORDERLY   \n",
       "\n",
       "           incidentLocation                  location  \n",
       "0            0 N CALVERT ST  (39.2899299,-76.6123462)  \n",
       "2799913  2700 W FRANKLIN ST  (39.2934320,-76.6614790)  "
      ]
     },
     "execution_count": 5,
     "metadata": {},
     "output_type": "execute_result"
    }
   ],
   "source": [
    "calls_cord.iloc[[0,-1]]"
   ]
  },
  {
   "cell_type": "code",
   "execution_count": 6,
   "metadata": {},
   "outputs": [
    {
     "data": {
      "text/plain": [
       "2799914"
      ]
     },
     "execution_count": 6,
     "metadata": {},
     "output_type": "execute_result"
    }
   ],
   "source": [
    "len(calls_cord)"
   ]
  },
  {
   "cell_type": "code",
   "execution_count": 7,
   "metadata": {},
   "outputs": [
    {
     "data": {
      "text/html": [
       "<div>\n",
       "<style>\n",
       "    .dataframe thead tr:only-child th {\n",
       "        text-align: right;\n",
       "    }\n",
       "\n",
       "    .dataframe thead th {\n",
       "        text-align: left;\n",
       "    }\n",
       "\n",
       "    .dataframe tbody tr th {\n",
       "        vertical-align: top;\n",
       "    }\n",
       "</style>\n",
       "<table border=\"1\" class=\"dataframe\">\n",
       "  <thead>\n",
       "    <tr style=\"text-align: right;\">\n",
       "      <th></th>\n",
       "      <th>callDateTime</th>\n",
       "      <th>priority</th>\n",
       "      <th>district</th>\n",
       "      <th>description</th>\n",
       "      <th>callNumber</th>\n",
       "      <th>incidentLocation</th>\n",
       "      <th>location</th>\n",
       "    </tr>\n",
       "  </thead>\n",
       "  <tbody>\n",
       "    <tr>\n",
       "      <th>0</th>\n",
       "      <td>2015-07-13 10:41:00</td>\n",
       "      <td>Medium</td>\n",
       "      <td>CD</td>\n",
       "      <td>SEE TEXT</td>\n",
       "      <td>P151941002</td>\n",
       "      <td>0 N CALVERT ST</td>\n",
       "      <td>(39.2899299,-76.6123462)</td>\n",
       "    </tr>\n",
       "    <tr>\n",
       "      <th>2799913</th>\n",
       "      <td>2017-08-21 11:49:00</td>\n",
       "      <td>Medium</td>\n",
       "      <td>WD</td>\n",
       "      <td>DISORDERLY</td>\n",
       "      <td>P172331043</td>\n",
       "      <td>2700 W FRANKLIN ST</td>\n",
       "      <td>(39.2934320,-76.6614790)</td>\n",
       "    </tr>\n",
       "  </tbody>\n",
       "</table>\n",
       "</div>"
      ],
      "text/plain": [
       "                callDateTime priority district description  callNumber  \\\n",
       "0        2015-07-13 10:41:00   Medium       CD    SEE TEXT  P151941002   \n",
       "2799913  2017-08-21 11:49:00   Medium       WD  DISORDERLY  P172331043   \n",
       "\n",
       "           incidentLocation                  location  \n",
       "0            0 N CALVERT ST  (39.2899299,-76.6123462)  \n",
       "2799913  2700 W FRANKLIN ST  (39.2934320,-76.6614790)  "
      ]
     },
     "execution_count": 7,
     "metadata": {},
     "output_type": "execute_result"
    }
   ],
   "source": [
    "calls_pr.iloc[[0,-1]]"
   ]
  },
  {
   "cell_type": "code",
   "execution_count": 8,
   "metadata": {},
   "outputs": [
    {
     "data": {
      "text/plain": [
       "2799914"
      ]
     },
     "execution_count": 8,
     "metadata": {},
     "output_type": "execute_result"
    }
   ],
   "source": [
    "len(calls_pr)"
   ]
  },
  {
   "cell_type": "code",
   "execution_count": 9,
   "metadata": {},
   "outputs": [
    {
     "data": {
      "text/html": [
       "<div>\n",
       "<style>\n",
       "    .dataframe thead tr:only-child th {\n",
       "        text-align: right;\n",
       "    }\n",
       "\n",
       "    .dataframe thead th {\n",
       "        text-align: left;\n",
       "    }\n",
       "\n",
       "    .dataframe tbody tr th {\n",
       "        vertical-align: top;\n",
       "    }\n",
       "</style>\n",
       "<table border=\"1\" class=\"dataframe\">\n",
       "  <thead>\n",
       "    <tr style=\"text-align: right;\">\n",
       "      <th></th>\n",
       "      <th>callDateTime</th>\n",
       "      <th>priority</th>\n",
       "      <th>district</th>\n",
       "      <th>description</th>\n",
       "      <th>callNumber</th>\n",
       "      <th>incidentLocation</th>\n",
       "      <th>location</th>\n",
       "    </tr>\n",
       "  </thead>\n",
       "  <tbody>\n",
       "    <tr>\n",
       "      <th>0</th>\n",
       "      <td>2015-07-13 10:41:00</td>\n",
       "      <td>Medium</td>\n",
       "      <td>CD</td>\n",
       "      <td>SEE TEXT</td>\n",
       "      <td>P151941002</td>\n",
       "      <td>0 N CALVERT ST</td>\n",
       "      <td>(39.2899299,-76.6123462)</td>\n",
       "    </tr>\n",
       "    <tr>\n",
       "      <th>2799913</th>\n",
       "      <td>2017-08-21 11:49:00</td>\n",
       "      <td>Medium</td>\n",
       "      <td>WD</td>\n",
       "      <td>DISORDERLY</td>\n",
       "      <td>P172331043</td>\n",
       "      <td>2700 W FRANKLIN ST</td>\n",
       "      <td>(39.2934320,-76.6614790)</td>\n",
       "    </tr>\n",
       "  </tbody>\n",
       "</table>\n",
       "</div>"
      ],
      "text/plain": [
       "                callDateTime priority district description  callNumber  \\\n",
       "0        2015-07-13 10:41:00   Medium       CD    SEE TEXT  P151941002   \n",
       "2799913  2017-08-21 11:49:00   Medium       WD  DISORDERLY  P172331043   \n",
       "\n",
       "           incidentLocation                  location  \n",
       "0            0 N CALVERT ST  (39.2899299,-76.6123462)  \n",
       "2799913  2700 W FRANKLIN ST  (39.2934320,-76.6614790)  "
      ]
     },
     "execution_count": 9,
     "metadata": {},
     "output_type": "execute_result"
    }
   ],
   "source": [
    "calls_desc.iloc[[0,-1]]"
   ]
  },
  {
   "cell_type": "code",
   "execution_count": 10,
   "metadata": {},
   "outputs": [
    {
     "data": {
      "text/plain": [
       "2799914"
      ]
     },
     "execution_count": 10,
     "metadata": {},
     "output_type": "execute_result"
    }
   ],
   "source": [
    "len(calls_desc)"
   ]
  },
  {
   "cell_type": "code",
   "execution_count": 11,
   "metadata": {},
   "outputs": [
    {
     "data": {
      "text/plain": [
       "6655"
      ]
     },
     "execution_count": 11,
     "metadata": {},
     "output_type": "execute_result"
    }
   ],
   "source": [
    "calls.priority.isnull().sum()"
   ]
  },
  {
   "cell_type": "code",
   "execution_count": 12,
   "metadata": {
    "collapsed": true
   },
   "outputs": [],
   "source": [
    "calls.priority = calls_pr.priority.copy()"
   ]
  },
  {
   "cell_type": "code",
   "execution_count": 13,
   "metadata": {},
   "outputs": [
    {
     "data": {
      "text/plain": [
       "0"
      ]
     },
     "execution_count": 13,
     "metadata": {},
     "output_type": "execute_result"
    }
   ],
   "source": [
    "calls.priority.isnull().sum()"
   ]
  },
  {
   "cell_type": "code",
   "execution_count": 14,
   "metadata": {
    "scrolled": true
   },
   "outputs": [
    {
     "data": {
      "text/plain": [
       "82532"
      ]
     },
     "execution_count": 14,
     "metadata": {},
     "output_type": "execute_result"
    }
   ],
   "source": [
    "calls.loc[(calls.location == '(,)') | (calls.location == '('),'location'].count()"
   ]
  },
  {
   "cell_type": "code",
   "execution_count": 15,
   "metadata": {
    "collapsed": true
   },
   "outputs": [],
   "source": [
    "calls.location = calls_cord.location.copy()"
   ]
  },
  {
   "cell_type": "code",
   "execution_count": 16,
   "metadata": {},
   "outputs": [
    {
     "data": {
      "text/plain": [
       "0"
      ]
     },
     "execution_count": 16,
     "metadata": {},
     "output_type": "execute_result"
    }
   ],
   "source": [
    "calls.loc[(calls.location == '(,)') | (calls.location == '('),'location'].count()"
   ]
  },
  {
   "cell_type": "code",
   "execution_count": 17,
   "metadata": {},
   "outputs": [
    {
     "data": {
      "text/plain": [
       "False    2791330\n",
       "True        8584\n",
       "Name: location, dtype: int64"
      ]
     },
     "execution_count": 17,
     "metadata": {},
     "output_type": "execute_result"
    }
   ],
   "source": [
    "calls.location.isnull().value_counts()"
   ]
  },
  {
   "cell_type": "code",
   "execution_count": 18,
   "metadata": {
    "collapsed": true
   },
   "outputs": [],
   "source": [
    "calls.description = calls_desc.description.copy()"
   ]
  },
  {
   "cell_type": "code",
   "execution_count": 19,
   "metadata": {
    "scrolled": true
   },
   "outputs": [
    {
     "data": {
      "text/plain": [
       "callDateTime        54\n",
       "priority            54\n",
       "district            54\n",
       "description         54\n",
       "callNumber          54\n",
       "incidentLocation    54\n",
       "location            54\n",
       "dtype: int64"
      ]
     },
     "execution_count": 19,
     "metadata": {},
     "output_type": "execute_result"
    }
   ],
   "source": [
    "calls[calls.description.str.contains('TEST',case=False)].count()"
   ]
  },
  {
   "cell_type": "code",
   "execution_count": 20,
   "metadata": {},
   "outputs": [
    {
     "data": {
      "text/html": [
       "<div>\n",
       "<style>\n",
       "    .dataframe thead tr:only-child th {\n",
       "        text-align: right;\n",
       "    }\n",
       "\n",
       "    .dataframe thead th {\n",
       "        text-align: left;\n",
       "    }\n",
       "\n",
       "    .dataframe tbody tr th {\n",
       "        vertical-align: top;\n",
       "    }\n",
       "</style>\n",
       "<table border=\"1\" class=\"dataframe\">\n",
       "  <thead>\n",
       "    <tr style=\"text-align: right;\">\n",
       "      <th></th>\n",
       "      <th>callDateTime</th>\n",
       "      <th>priority</th>\n",
       "      <th>district</th>\n",
       "      <th>description</th>\n",
       "      <th>callNumber</th>\n",
       "      <th>incidentLocation</th>\n",
       "      <th>location</th>\n",
       "    </tr>\n",
       "  </thead>\n",
       "  <tbody>\n",
       "    <tr>\n",
       "      <th>25036</th>\n",
       "      <td>2015-07-21 10:20:00</td>\n",
       "      <td>Low</td>\n",
       "      <td>CD</td>\n",
       "      <td>TEST CALL</td>\n",
       "      <td>P152020909</td>\n",
       "      <td>600 E FAYETTE ST</td>\n",
       "      <td>(39.2906737,-76.6071600)</td>\n",
       "    </tr>\n",
       "    <tr>\n",
       "      <th>261442</th>\n",
       "      <td>2016-01-04 16:04:00</td>\n",
       "      <td>Low</td>\n",
       "      <td>SE</td>\n",
       "      <td>TEST CALL</td>\n",
       "      <td>P160041681</td>\n",
       "      <td>1500 S CLINTON ST</td>\n",
       "      <td>(39.2754291,-76.5692642)</td>\n",
       "    </tr>\n",
       "    <tr>\n",
       "      <th>460740</th>\n",
       "      <td>2016-03-30 01:34:00</td>\n",
       "      <td>Low</td>\n",
       "      <td>SD</td>\n",
       "      <td>TEST CALL</td>\n",
       "      <td>P160900188</td>\n",
       "      <td>400 W HAMBURG ST</td>\n",
       "      <td>(39.2789419,-76.6207863)</td>\n",
       "    </tr>\n",
       "    <tr>\n",
       "      <th>497993</th>\n",
       "      <td>2015-10-06 11:29:00</td>\n",
       "      <td>Low</td>\n",
       "      <td>SS</td>\n",
       "      <td>TEST CALL</td>\n",
       "      <td>P152791111</td>\n",
       "      <td>600 E FAYETTE ST</td>\n",
       "      <td>(39.2906673,-76.6071593)</td>\n",
       "    </tr>\n",
       "    <tr>\n",
       "      <th>694664</th>\n",
       "      <td>2015-09-16 12:21:00</td>\n",
       "      <td>Low</td>\n",
       "      <td>SS</td>\n",
       "      <td>TEST CALL</td>\n",
       "      <td>P152591290</td>\n",
       "      <td>600 E FAYETTE ST</td>\n",
       "      <td>(39.2906737,-76.6071600)</td>\n",
       "    </tr>\n",
       "  </tbody>\n",
       "</table>\n",
       "</div>"
      ],
      "text/plain": [
       "               callDateTime priority district description  callNumber  \\\n",
       "25036   2015-07-21 10:20:00      Low       CD   TEST CALL  P152020909   \n",
       "261442  2016-01-04 16:04:00      Low       SE   TEST CALL  P160041681   \n",
       "460740  2016-03-30 01:34:00      Low       SD   TEST CALL  P160900188   \n",
       "497993  2015-10-06 11:29:00      Low       SS   TEST CALL  P152791111   \n",
       "694664  2015-09-16 12:21:00      Low       SS   TEST CALL  P152591290   \n",
       "\n",
       "         incidentLocation                  location  \n",
       "25036    600 E FAYETTE ST  (39.2906737,-76.6071600)  \n",
       "261442  1500 S CLINTON ST  (39.2754291,-76.5692642)  \n",
       "460740   400 W HAMBURG ST  (39.2789419,-76.6207863)  \n",
       "497993   600 E FAYETTE ST  (39.2906673,-76.6071593)  \n",
       "694664   600 E FAYETTE ST  (39.2906737,-76.6071600)  "
      ]
     },
     "execution_count": 20,
     "metadata": {},
     "output_type": "execute_result"
    }
   ],
   "source": [
    "calls[calls.description.str.contains('TEST',case=False)].head()"
   ]
  },
  {
   "cell_type": "code",
   "execution_count": 21,
   "metadata": {
    "collapsed": true
   },
   "outputs": [],
   "source": [
    "calls.drop(calls[calls.description.str.contains('TEST',case=False) == True].index,inplace=True)"
   ]
  },
  {
   "cell_type": "code",
   "execution_count": 22,
   "metadata": {},
   "outputs": [
    {
     "data": {
      "text/plain": [
       "callDateTime        0\n",
       "priority            0\n",
       "district            0\n",
       "description         0\n",
       "callNumber          0\n",
       "incidentLocation    0\n",
       "location            0\n",
       "dtype: int64"
      ]
     },
     "execution_count": 22,
     "metadata": {},
     "output_type": "execute_result"
    }
   ],
   "source": [
    "calls[calls.description.str.contains('TEST',case=False)].count()"
   ]
  },
  {
   "cell_type": "code",
   "execution_count": 23,
   "metadata": {},
   "outputs": [
    {
     "data": {
      "text/plain": [
       "callDateTime           0\n",
       "priority               0\n",
       "district               0\n",
       "description            0\n",
       "callNumber             0\n",
       "incidentLocation       0\n",
       "location            8584\n",
       "dtype: int64"
      ]
     },
     "execution_count": 23,
     "metadata": {},
     "output_type": "execute_result"
    }
   ],
   "source": [
    "calls.isnull().sum()"
   ]
  },
  {
   "cell_type": "code",
   "execution_count": 24,
   "metadata": {},
   "outputs": [
    {
     "data": {
      "text/plain": [
       "2799860"
      ]
     },
     "execution_count": 24,
     "metadata": {},
     "output_type": "execute_result"
    }
   ],
   "source": [
    "len(calls)"
   ]
  },
  {
   "cell_type": "code",
   "execution_count": 25,
   "metadata": {
    "collapsed": true
   },
   "outputs": [],
   "source": [
    "calls.set_index('callDateTime',inplace=True)"
   ]
  },
  {
   "cell_type": "code",
   "execution_count": 26,
   "metadata": {},
   "outputs": [
    {
     "data": {
      "text/html": [
       "<div>\n",
       "<style>\n",
       "    .dataframe thead tr:only-child th {\n",
       "        text-align: right;\n",
       "    }\n",
       "\n",
       "    .dataframe thead th {\n",
       "        text-align: left;\n",
       "    }\n",
       "\n",
       "    .dataframe tbody tr th {\n",
       "        vertical-align: top;\n",
       "    }\n",
       "</style>\n",
       "<table border=\"1\" class=\"dataframe\">\n",
       "  <thead>\n",
       "    <tr style=\"text-align: right;\">\n",
       "      <th></th>\n",
       "      <th>priority</th>\n",
       "      <th>district</th>\n",
       "      <th>description</th>\n",
       "      <th>callNumber</th>\n",
       "      <th>incidentLocation</th>\n",
       "      <th>location</th>\n",
       "    </tr>\n",
       "    <tr>\n",
       "      <th>callDateTime</th>\n",
       "      <th></th>\n",
       "      <th></th>\n",
       "      <th></th>\n",
       "      <th></th>\n",
       "      <th></th>\n",
       "      <th></th>\n",
       "    </tr>\n",
       "  </thead>\n",
       "  <tbody>\n",
       "    <tr>\n",
       "      <th>2015-07-13 10:41:00</th>\n",
       "      <td>Medium</td>\n",
       "      <td>CD</td>\n",
       "      <td>SEE TEXT</td>\n",
       "      <td>P151941002</td>\n",
       "      <td>0 N CALVERT ST</td>\n",
       "      <td>(39.2899299,-76.6123462)</td>\n",
       "    </tr>\n",
       "    <tr>\n",
       "      <th>2015-07-13 10:47:00</th>\n",
       "      <td>Medium</td>\n",
       "      <td>CD</td>\n",
       "      <td>911 NO VOICE</td>\n",
       "      <td>P151941003</td>\n",
       "      <td>600 E FAYETTE ST</td>\n",
       "      <td>(39.2906737,-76.6071600)</td>\n",
       "    </tr>\n",
       "    <tr>\n",
       "      <th>2015-07-13 10:42:00</th>\n",
       "      <td>Medium</td>\n",
       "      <td>CD</td>\n",
       "      <td>911 NO VOICE</td>\n",
       "      <td>P151941004</td>\n",
       "      <td>200 E BALTIMORE ST</td>\n",
       "      <td>(39.2898910,-76.6120720)</td>\n",
       "    </tr>\n",
       "    <tr>\n",
       "      <th>2015-07-13 10:45:00</th>\n",
       "      <td>Low</td>\n",
       "      <td>CD</td>\n",
       "      <td>PRKG COMPLAINT</td>\n",
       "      <td>P151941005</td>\n",
       "      <td>800 PARK AV</td>\n",
       "      <td>(39.2985163,-76.6184754)</td>\n",
       "    </tr>\n",
       "    <tr>\n",
       "      <th>2015-07-13 10:46:00</th>\n",
       "      <td>Medium</td>\n",
       "      <td>SW</td>\n",
       "      <td>AUTO THEFT</td>\n",
       "      <td>P151941006</td>\n",
       "      <td>3500 CLIFTON AV</td>\n",
       "      <td>(39.3112130,-76.6763150)</td>\n",
       "    </tr>\n",
       "  </tbody>\n",
       "</table>\n",
       "</div>"
      ],
      "text/plain": [
       "                    priority district     description  callNumber  \\\n",
       "callDateTime                                                        \n",
       "2015-07-13 10:41:00   Medium       CD        SEE TEXT  P151941002   \n",
       "2015-07-13 10:47:00   Medium       CD    911 NO VOICE  P151941003   \n",
       "2015-07-13 10:42:00   Medium       CD    911 NO VOICE  P151941004   \n",
       "2015-07-13 10:45:00      Low       CD  PRKG COMPLAINT  P151941005   \n",
       "2015-07-13 10:46:00   Medium       SW      AUTO THEFT  P151941006   \n",
       "\n",
       "                       incidentLocation                  location  \n",
       "callDateTime                                                       \n",
       "2015-07-13 10:41:00      0 N CALVERT ST  (39.2899299,-76.6123462)  \n",
       "2015-07-13 10:47:00    600 E FAYETTE ST  (39.2906737,-76.6071600)  \n",
       "2015-07-13 10:42:00  200 E BALTIMORE ST  (39.2898910,-76.6120720)  \n",
       "2015-07-13 10:45:00         800 PARK AV  (39.2985163,-76.6184754)  \n",
       "2015-07-13 10:46:00     3500 CLIFTON AV  (39.3112130,-76.6763150)  "
      ]
     },
     "execution_count": 26,
     "metadata": {},
     "output_type": "execute_result"
    }
   ],
   "source": [
    "calls.head()"
   ]
  },
  {
   "cell_type": "code",
   "execution_count": 27,
   "metadata": {
    "collapsed": true
   },
   "outputs": [],
   "source": [
    "def set_lat(x):\n",
    "    try:\n",
    "        return float(x.split(',')[0][1:])\n",
    "    except:\n",
    "        return np.nan\n",
    "    \n",
    "def set_lon(x):\n",
    "    try:\n",
    "        return float(x.split(',')[1][:-1])\n",
    "    except:\n",
    "        return np.nan"
   ]
  },
  {
   "cell_type": "code",
   "execution_count": 28,
   "metadata": {
    "collapsed": true
   },
   "outputs": [],
   "source": [
    "calls['lat'] = calls['location'].apply(set_lat)"
   ]
  },
  {
   "cell_type": "code",
   "execution_count": 29,
   "metadata": {
    "collapsed": true
   },
   "outputs": [],
   "source": [
    "calls['lon'] = calls['location'].apply(set_lon)"
   ]
  },
  {
   "cell_type": "code",
   "execution_count": 30,
   "metadata": {},
   "outputs": [
    {
     "data": {
      "text/html": [
       "<div>\n",
       "<style>\n",
       "    .dataframe thead tr:only-child th {\n",
       "        text-align: right;\n",
       "    }\n",
       "\n",
       "    .dataframe thead th {\n",
       "        text-align: left;\n",
       "    }\n",
       "\n",
       "    .dataframe tbody tr th {\n",
       "        vertical-align: top;\n",
       "    }\n",
       "</style>\n",
       "<table border=\"1\" class=\"dataframe\">\n",
       "  <thead>\n",
       "    <tr style=\"text-align: right;\">\n",
       "      <th></th>\n",
       "      <th>priority</th>\n",
       "      <th>district</th>\n",
       "      <th>description</th>\n",
       "      <th>callNumber</th>\n",
       "      <th>incidentLocation</th>\n",
       "      <th>location</th>\n",
       "      <th>lat</th>\n",
       "      <th>lon</th>\n",
       "    </tr>\n",
       "    <tr>\n",
       "      <th>callDateTime</th>\n",
       "      <th></th>\n",
       "      <th></th>\n",
       "      <th></th>\n",
       "      <th></th>\n",
       "      <th></th>\n",
       "      <th></th>\n",
       "      <th></th>\n",
       "      <th></th>\n",
       "    </tr>\n",
       "  </thead>\n",
       "  <tbody>\n",
       "    <tr>\n",
       "      <th>2015-07-13 10:41:00</th>\n",
       "      <td>Medium</td>\n",
       "      <td>CD</td>\n",
       "      <td>SEE TEXT</td>\n",
       "      <td>P151941002</td>\n",
       "      <td>0 N CALVERT ST</td>\n",
       "      <td>(39.2899299,-76.6123462)</td>\n",
       "      <td>39.289930</td>\n",
       "      <td>-76.612346</td>\n",
       "    </tr>\n",
       "    <tr>\n",
       "      <th>2015-07-13 10:47:00</th>\n",
       "      <td>Medium</td>\n",
       "      <td>CD</td>\n",
       "      <td>911 NO VOICE</td>\n",
       "      <td>P151941003</td>\n",
       "      <td>600 E FAYETTE ST</td>\n",
       "      <td>(39.2906737,-76.6071600)</td>\n",
       "      <td>39.290674</td>\n",
       "      <td>-76.607160</td>\n",
       "    </tr>\n",
       "    <tr>\n",
       "      <th>2015-07-13 10:42:00</th>\n",
       "      <td>Medium</td>\n",
       "      <td>CD</td>\n",
       "      <td>911 NO VOICE</td>\n",
       "      <td>P151941004</td>\n",
       "      <td>200 E BALTIMORE ST</td>\n",
       "      <td>(39.2898910,-76.6120720)</td>\n",
       "      <td>39.289891</td>\n",
       "      <td>-76.612072</td>\n",
       "    </tr>\n",
       "    <tr>\n",
       "      <th>2015-07-13 10:45:00</th>\n",
       "      <td>Low</td>\n",
       "      <td>CD</td>\n",
       "      <td>PRKG COMPLAINT</td>\n",
       "      <td>P151941005</td>\n",
       "      <td>800 PARK AV</td>\n",
       "      <td>(39.2985163,-76.6184754)</td>\n",
       "      <td>39.298516</td>\n",
       "      <td>-76.618475</td>\n",
       "    </tr>\n",
       "    <tr>\n",
       "      <th>2015-07-13 10:46:00</th>\n",
       "      <td>Medium</td>\n",
       "      <td>SW</td>\n",
       "      <td>AUTO THEFT</td>\n",
       "      <td>P151941006</td>\n",
       "      <td>3500 CLIFTON AV</td>\n",
       "      <td>(39.3112130,-76.6763150)</td>\n",
       "      <td>39.311213</td>\n",
       "      <td>-76.676315</td>\n",
       "    </tr>\n",
       "  </tbody>\n",
       "</table>\n",
       "</div>"
      ],
      "text/plain": [
       "                    priority district     description  callNumber  \\\n",
       "callDateTime                                                        \n",
       "2015-07-13 10:41:00   Medium       CD        SEE TEXT  P151941002   \n",
       "2015-07-13 10:47:00   Medium       CD    911 NO VOICE  P151941003   \n",
       "2015-07-13 10:42:00   Medium       CD    911 NO VOICE  P151941004   \n",
       "2015-07-13 10:45:00      Low       CD  PRKG COMPLAINT  P151941005   \n",
       "2015-07-13 10:46:00   Medium       SW      AUTO THEFT  P151941006   \n",
       "\n",
       "                       incidentLocation                  location        lat  \\\n",
       "callDateTime                                                                   \n",
       "2015-07-13 10:41:00      0 N CALVERT ST  (39.2899299,-76.6123462)  39.289930   \n",
       "2015-07-13 10:47:00    600 E FAYETTE ST  (39.2906737,-76.6071600)  39.290674   \n",
       "2015-07-13 10:42:00  200 E BALTIMORE ST  (39.2898910,-76.6120720)  39.289891   \n",
       "2015-07-13 10:45:00         800 PARK AV  (39.2985163,-76.6184754)  39.298516   \n",
       "2015-07-13 10:46:00     3500 CLIFTON AV  (39.3112130,-76.6763150)  39.311213   \n",
       "\n",
       "                           lon  \n",
       "callDateTime                    \n",
       "2015-07-13 10:41:00 -76.612346  \n",
       "2015-07-13 10:47:00 -76.607160  \n",
       "2015-07-13 10:42:00 -76.612072  \n",
       "2015-07-13 10:45:00 -76.618475  \n",
       "2015-07-13 10:46:00 -76.676315  "
      ]
     },
     "execution_count": 30,
     "metadata": {},
     "output_type": "execute_result"
    }
   ],
   "source": [
    "calls.head()"
   ]
  },
  {
   "cell_type": "code",
   "execution_count": 31,
   "metadata": {
    "collapsed": true
   },
   "outputs": [],
   "source": [
    "calls.to_csv('911_calls_for_service_clean_final.csv')"
   ]
  },
  {
   "cell_type": "code",
   "execution_count": 32,
   "metadata": {},
   "outputs": [
    {
     "data": {
      "text/html": [
       "<div>\n",
       "<style>\n",
       "    .dataframe thead tr:only-child th {\n",
       "        text-align: right;\n",
       "    }\n",
       "\n",
       "    .dataframe thead th {\n",
       "        text-align: left;\n",
       "    }\n",
       "\n",
       "    .dataframe tbody tr th {\n",
       "        vertical-align: top;\n",
       "    }\n",
       "</style>\n",
       "<table border=\"1\" class=\"dataframe\">\n",
       "  <thead>\n",
       "    <tr style=\"text-align: right;\">\n",
       "      <th></th>\n",
       "      <th>priority</th>\n",
       "      <th>district</th>\n",
       "      <th>description</th>\n",
       "      <th>callNumber</th>\n",
       "      <th>incidentLocation</th>\n",
       "      <th>location</th>\n",
       "      <th>lat</th>\n",
       "      <th>lon</th>\n",
       "    </tr>\n",
       "    <tr>\n",
       "      <th>callDateTime</th>\n",
       "      <th></th>\n",
       "      <th></th>\n",
       "      <th></th>\n",
       "      <th></th>\n",
       "      <th></th>\n",
       "      <th></th>\n",
       "      <th></th>\n",
       "      <th></th>\n",
       "    </tr>\n",
       "  </thead>\n",
       "  <tbody>\n",
       "    <tr>\n",
       "      <th>2015-07-13 10:41:00</th>\n",
       "      <td>Medium</td>\n",
       "      <td>CD</td>\n",
       "      <td>SEE TEXT</td>\n",
       "      <td>P151941002</td>\n",
       "      <td>0 N CALVERT ST</td>\n",
       "      <td>(39.2899299,-76.6123462)</td>\n",
       "      <td>39.289930</td>\n",
       "      <td>-76.612346</td>\n",
       "    </tr>\n",
       "    <tr>\n",
       "      <th>2015-07-13 10:47:00</th>\n",
       "      <td>Medium</td>\n",
       "      <td>CD</td>\n",
       "      <td>911 NO VOICE</td>\n",
       "      <td>P151941003</td>\n",
       "      <td>600 E FAYETTE ST</td>\n",
       "      <td>(39.2906737,-76.6071600)</td>\n",
       "      <td>39.290674</td>\n",
       "      <td>-76.607160</td>\n",
       "    </tr>\n",
       "    <tr>\n",
       "      <th>2015-07-13 10:42:00</th>\n",
       "      <td>Medium</td>\n",
       "      <td>CD</td>\n",
       "      <td>911 NO VOICE</td>\n",
       "      <td>P151941004</td>\n",
       "      <td>200 E BALTIMORE ST</td>\n",
       "      <td>(39.2898910,-76.6120720)</td>\n",
       "      <td>39.289891</td>\n",
       "      <td>-76.612072</td>\n",
       "    </tr>\n",
       "    <tr>\n",
       "      <th>2015-07-13 10:45:00</th>\n",
       "      <td>Low</td>\n",
       "      <td>CD</td>\n",
       "      <td>PRKG COMPLAINT</td>\n",
       "      <td>P151941005</td>\n",
       "      <td>800 PARK AV</td>\n",
       "      <td>(39.2985163,-76.6184754)</td>\n",
       "      <td>39.298516</td>\n",
       "      <td>-76.618475</td>\n",
       "    </tr>\n",
       "    <tr>\n",
       "      <th>2015-07-13 10:46:00</th>\n",
       "      <td>Medium</td>\n",
       "      <td>SW</td>\n",
       "      <td>AUTO THEFT</td>\n",
       "      <td>P151941006</td>\n",
       "      <td>3500 CLIFTON AV</td>\n",
       "      <td>(39.3112130,-76.6763150)</td>\n",
       "      <td>39.311213</td>\n",
       "      <td>-76.676315</td>\n",
       "    </tr>\n",
       "  </tbody>\n",
       "</table>\n",
       "</div>"
      ],
      "text/plain": [
       "                    priority district     description  callNumber  \\\n",
       "callDateTime                                                        \n",
       "2015-07-13 10:41:00   Medium       CD        SEE TEXT  P151941002   \n",
       "2015-07-13 10:47:00   Medium       CD    911 NO VOICE  P151941003   \n",
       "2015-07-13 10:42:00   Medium       CD    911 NO VOICE  P151941004   \n",
       "2015-07-13 10:45:00      Low       CD  PRKG COMPLAINT  P151941005   \n",
       "2015-07-13 10:46:00   Medium       SW      AUTO THEFT  P151941006   \n",
       "\n",
       "                       incidentLocation                  location        lat  \\\n",
       "callDateTime                                                                   \n",
       "2015-07-13 10:41:00      0 N CALVERT ST  (39.2899299,-76.6123462)  39.289930   \n",
       "2015-07-13 10:47:00    600 E FAYETTE ST  (39.2906737,-76.6071600)  39.290674   \n",
       "2015-07-13 10:42:00  200 E BALTIMORE ST  (39.2898910,-76.6120720)  39.289891   \n",
       "2015-07-13 10:45:00         800 PARK AV  (39.2985163,-76.6184754)  39.298516   \n",
       "2015-07-13 10:46:00     3500 CLIFTON AV  (39.3112130,-76.6763150)  39.311213   \n",
       "\n",
       "                           lon  \n",
       "callDateTime                    \n",
       "2015-07-13 10:41:00 -76.612346  \n",
       "2015-07-13 10:47:00 -76.607160  \n",
       "2015-07-13 10:42:00 -76.612072  \n",
       "2015-07-13 10:45:00 -76.618475  \n",
       "2015-07-13 10:46:00 -76.676315  "
      ]
     },
     "execution_count": 32,
     "metadata": {},
     "output_type": "execute_result"
    }
   ],
   "source": [
    "calls = pd.read_csv('911_calls_for_service_clean_final.csv',index_col='callDateTime',parse_dates=True)\n",
    "calls.head()"
   ]
  },
  {
   "cell_type": "code",
   "execution_count": 33,
   "metadata": {},
   "outputs": [
    {
     "data": {
      "text/plain": [
       "pandas.core.indexes.datetimes.DatetimeIndex"
      ]
     },
     "execution_count": 33,
     "metadata": {},
     "output_type": "execute_result"
    }
   ],
   "source": [
    "type(calls.index)"
   ]
  }
 ],
 "metadata": {
  "kernelspec": {
   "display_name": "Python 3",
   "language": "python",
   "name": "python3"
  },
  "language_info": {
   "codemirror_mode": {
    "name": "ipython",
    "version": 3
   },
   "file_extension": ".py",
   "mimetype": "text/x-python",
   "name": "python",
   "nbconvert_exporter": "python",
   "pygments_lexer": "ipython3",
   "version": "3.6.2"
  }
 },
 "nbformat": 4,
 "nbformat_minor": 2
}
